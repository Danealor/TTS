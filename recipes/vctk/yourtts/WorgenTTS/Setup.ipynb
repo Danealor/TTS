{
 "cells": [
  {
   "cell_type": "code",
   "execution_count": 1,
   "id": "6b36e126-df3d-43d6-92ac-b1f932bc2eae",
   "metadata": {},
   "outputs": [],
   "source": [
    "import os\n",
    "\n",
    "import torch\n",
    "from TTS.bin.compute_embeddings import compute_embeddings"
   ]
  },
  {
   "cell_type": "code",
   "execution_count": 2,
   "id": "0df83a5c-ff16-4b30-a920-6d03aa222a43",
   "metadata": {},
   "outputs": [
    {
     "name": "stdout",
     "output_type": "stream",
     "text": [
      ">>> Computing the speaker embeddings\n",
      " | > Found 262 files in C:\\Users\\iambl\\GitHub\\TTS\\recipes\\vctk\\yourtts\\Worgen\n",
      " > Model fully restored. \n",
      " > Setting up Audio Processor...\n",
      " | > sample_rate:16000\n",
      " | > resample:False\n",
      " | > num_mels:64\n",
      " | > log_func:np.log10\n",
      " | > min_level_db:-100\n",
      " | > frame_shift_ms:None\n",
      " | > frame_length_ms:None\n",
      " | > ref_level_db:20\n",
      " | > fft_size:512\n",
      " | > power:1.5\n",
      " | > preemphasis:0.97\n",
      " | > griffin_lim_iters:60\n",
      " | > signal_norm:False\n",
      " | > symmetric_norm:False\n",
      " | > mel_fmin:0\n",
      " | > mel_fmax:8000.0\n",
      " | > pitch_fmin:1.0\n",
      " | > pitch_fmax:640.0\n",
      " | > spec_gain:20.0\n",
      " | > stft_pad_mode:reflect\n",
      " | > max_norm:4.0\n",
      " | > clip_norm:False\n",
      " | > do_trim_silence:False\n",
      " | > trim_db:60\n",
      " | > do_sound_norm:False\n",
      " | > do_amp_to_db_linear:True\n",
      " | > do_amp_to_db_mel:True\n",
      " | > do_rms_norm:True\n",
      " | > db_level:-27.0\n",
      " | > stats_path:None\n",
      " | > base:10\n",
      " | > hop_length:160\n",
      " | > win_length:400\n"
     ]
    },
    {
     "name": "stderr",
     "output_type": "stream",
     "text": [
      "100%|██████████████████████████████████████████████████████████████████████████████████████████████████████████████████████████████████████████████████████████████████████████████████████████████████████| 262/262 [00:07<00:00, 36.05it/s]"
     ]
    },
    {
     "name": "stdout",
     "output_type": "stream",
     "text": [
      "Speaker embeddings saved at: C:\\Users\\iambl\\GitHub\\TTS\\recipes\\vctk\\yourtts\\WorgenTTS\\speakers.pth\n"
     ]
    },
    {
     "name": "stderr",
     "output_type": "stream",
     "text": [
      "\n"
     ]
    }
   ],
   "source": [
    "CURRENT_PATH = os.getcwd()\n",
    "embeddings_file = os.path.join(CURRENT_PATH, \"speakers.pth\")\n",
    "config_file = os.path.join(CURRENT_PATH, \"config.json\")\n",
    "\n",
    "SPEAKER_ENCODER_CHECKPOINT_PATH = r\"C:\\Users\\iambl\\AppData\\Local\\tts\\tts_models--multilingual--multi-dataset--your_tts\\model_se.pth\"\n",
    "SPEAKER_ENCODER_CONFIG_PATH = os.path.join(CURRENT_PATH, \"config_se.json\")\n",
    "\n",
    "print(f\">>> Computing the speaker embeddings\")\n",
    "compute_embeddings(\n",
    "    SPEAKER_ENCODER_CHECKPOINT_PATH,\n",
    "    SPEAKER_ENCODER_CONFIG_PATH,\n",
    "    embeddings_file,\n",
    "    config_dataset_path=config_file,\n",
    "    disable_cuda=False,\n",
    "    no_eval=False,\n",
    ")"
   ]
  },
  {
   "cell_type": "code",
   "execution_count": 11,
   "id": "bc9b1c23-2dac-4e16-b3d3-4addad221c88",
   "metadata": {},
   "outputs": [
    {
     "name": "stdout",
     "output_type": "stream",
     "text": [
      "C:\\Users\\iambl\\GitHub\\TTS\\recipes\\vctk\\yourtts\\Worgen\\female-worgen\\metadata.txt\n",
      "female-worgen\\metadata.txt\n"
     ]
    },
    {
     "data": {
      "text/plain": [
       "['female-worgen', 'metadata.txt']"
      ]
     },
     "execution_count": 11,
     "metadata": {},
     "output_type": "execute_result"
    }
   ],
   "source": [
    "from glob import glob\n",
    "\n",
    "root_path = os.path.join(os.path.dirname(CURRENT_PATH), \"Worgen\")\n",
    "meta_filename = \"metadata.txt\"\n",
    "meta_files = glob(f\"{root_path}/*/{meta_filename}\", recursive=True)\n",
    "meta_file = meta_files[0]\n",
    "\n",
    "print(meta_file)\n",
    "print(os.path.relpath(meta_file, root_path))\n",
    "\n",
    "os.path.relpath(meta_file, root_path).split(os.sep)"
   ]
  }
 ],
 "metadata": {
  "kernelspec": {
   "display_name": "ttp",
   "language": "python",
   "name": "ttp"
  },
  "language_info": {
   "codemirror_mode": {
    "name": "ipython",
    "version": 3
   },
   "file_extension": ".py",
   "mimetype": "text/x-python",
   "name": "python",
   "nbconvert_exporter": "python",
   "pygments_lexer": "ipython3",
   "version": "3.8.10"
  }
 },
 "nbformat": 4,
 "nbformat_minor": 5
}
