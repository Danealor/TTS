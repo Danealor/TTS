{
 "cells": [
  {
   "cell_type": "code",
   "execution_count": 5,
   "id": "31617536-e543-473b-b151-86c4aeea0031",
   "metadata": {},
   "outputs": [
    {
     "name": "stdout",
     "output_type": "stream",
     "text": [
      " > tts_models/multilingual/multi-dataset/your_tts is already downloaded.\n"
     ]
    },
    {
     "ename": "ModuleNotFoundError",
     "evalue": " [!] Config for vits cannot be found.",
     "output_type": "error",
     "traceback": [
      "\u001b[1;31m---------------------------------------------------------------------------\u001b[0m",
      "\u001b[1;31mModuleNotFoundError\u001b[0m                       Traceback (most recent call last)",
      "Cell \u001b[1;32mIn[5], line 4\u001b[0m\n\u001b[0;32m      1\u001b[0m \u001b[38;5;28;01mfrom\u001b[39;00m \u001b[38;5;21;01mTTS\u001b[39;00m\u001b[38;5;21;01m.\u001b[39;00m\u001b[38;5;21;01mutils\u001b[39;00m\u001b[38;5;21;01m.\u001b[39;00m\u001b[38;5;21;01mmanage\u001b[39;00m \u001b[38;5;28;01mimport\u001b[39;00m ModelManager\n\u001b[0;32m      2\u001b[0m manager \u001b[38;5;241m=\u001b[39m ModelManager(progress_bar\u001b[38;5;241m=\u001b[39m\u001b[38;5;28;01mTrue\u001b[39;00m)\n\u001b[1;32m----> 4\u001b[0m MODEL_FILE, \u001b[38;5;241m*\u001b[39m_ \u001b[38;5;241m=\u001b[39m \u001b[43mmanager\u001b[49m\u001b[38;5;241;43m.\u001b[39;49m\u001b[43mdownload_model\u001b[49m\u001b[43m(\u001b[49m\u001b[38;5;124;43m\"\u001b[39;49m\u001b[38;5;124;43mtts_models/multilingual/multi-dataset/your_tts\u001b[39;49m\u001b[38;5;124;43m\"\u001b[39;49m\u001b[43m)\u001b[49m\n",
      "File \u001b[1;32m~\\GitHub\\TTS\\TTS\\utils\\manage.py:280\u001b[0m, in \u001b[0;36mModelManager.download_model\u001b[1;34m(self, model_name)\u001b[0m\n\u001b[0;32m    278\u001b[0m output_model_path, output_config_path \u001b[38;5;241m=\u001b[39m \u001b[38;5;28mself\u001b[39m\u001b[38;5;241m.\u001b[39m_find_files(output_path)\n\u001b[0;32m    279\u001b[0m \u001b[38;5;66;03m# update paths in the config.json\u001b[39;00m\n\u001b[1;32m--> 280\u001b[0m \u001b[38;5;28;43mself\u001b[39;49m\u001b[38;5;241;43m.\u001b[39;49m\u001b[43m_update_paths\u001b[49m\u001b[43m(\u001b[49m\u001b[43moutput_path\u001b[49m\u001b[43m,\u001b[49m\u001b[43m \u001b[49m\u001b[43moutput_config_path\u001b[49m\u001b[43m)\u001b[49m\n\u001b[0;32m    281\u001b[0m \u001b[38;5;28;01mreturn\u001b[39;00m output_model_path, output_config_path, model_item\n",
      "File \u001b[1;32m~\\GitHub\\TTS\\TTS\\utils\\manage.py:341\u001b[0m, in \u001b[0;36mModelManager._update_paths\u001b[1;34m(self, output_path, config_path)\u001b[0m\n\u001b[0;32m    338\u001b[0m \u001b[38;5;28mself\u001b[39m\u001b[38;5;241m.\u001b[39m_update_path(\u001b[38;5;124m\"\u001b[39m\u001b[38;5;124maudio.stats_path\u001b[39m\u001b[38;5;124m\"\u001b[39m, output_stats_path, config_path)\n\u001b[0;32m    340\u001b[0m \u001b[38;5;66;03m# update the speakers.json file path in the model config.json to the current path\u001b[39;00m\n\u001b[1;32m--> 341\u001b[0m \u001b[38;5;28;43mself\u001b[39;49m\u001b[38;5;241;43m.\u001b[39;49m\u001b[43m_update_path\u001b[49m\u001b[43m(\u001b[49m\u001b[38;5;124;43m\"\u001b[39;49m\u001b[38;5;124;43md_vector_file\u001b[39;49m\u001b[38;5;124;43m\"\u001b[39;49m\u001b[43m,\u001b[49m\u001b[43m \u001b[49m\u001b[43moutput_d_vector_file_path\u001b[49m\u001b[43m,\u001b[49m\u001b[43m \u001b[49m\u001b[43mconfig_path\u001b[49m\u001b[43m)\u001b[49m\n\u001b[0;32m    342\u001b[0m \u001b[38;5;28mself\u001b[39m\u001b[38;5;241m.\u001b[39m_update_path(\u001b[38;5;124m\"\u001b[39m\u001b[38;5;124md_vector_file\u001b[39m\u001b[38;5;124m\"\u001b[39m, output_d_vector_file_pth_path, config_path)\n\u001b[0;32m    343\u001b[0m \u001b[38;5;28mself\u001b[39m\u001b[38;5;241m.\u001b[39m_update_path(\u001b[38;5;124m\"\u001b[39m\u001b[38;5;124mmodel_args.d_vector_file\u001b[39m\u001b[38;5;124m\"\u001b[39m, output_d_vector_file_path, config_path)\n",
      "File \u001b[1;32m~\\GitHub\\TTS\\TTS\\utils\\manage.py:362\u001b[0m, in \u001b[0;36mModelManager._update_path\u001b[1;34m(field_name, new_path, config_path)\u001b[0m\n\u001b[0;32m    360\u001b[0m \u001b[38;5;250m\u001b[39m\u001b[38;5;124;03m\"\"\"Update the path in the model config.json for the current environment after download\"\"\"\u001b[39;00m\n\u001b[0;32m    361\u001b[0m \u001b[38;5;28;01mif\u001b[39;00m new_path \u001b[38;5;129;01mand\u001b[39;00m os\u001b[38;5;241m.\u001b[39mpath\u001b[38;5;241m.\u001b[39mexists(new_path):\n\u001b[1;32m--> 362\u001b[0m     config \u001b[38;5;241m=\u001b[39m \u001b[43mload_config\u001b[49m\u001b[43m(\u001b[49m\u001b[43mconfig_path\u001b[49m\u001b[43m)\u001b[49m\n\u001b[0;32m    363\u001b[0m     field_names \u001b[38;5;241m=\u001b[39m field_name\u001b[38;5;241m.\u001b[39msplit(\u001b[38;5;124m\"\u001b[39m\u001b[38;5;124m.\u001b[39m\u001b[38;5;124m\"\u001b[39m)\n\u001b[0;32m    364\u001b[0m     \u001b[38;5;28;01mif\u001b[39;00m \u001b[38;5;28mlen\u001b[39m(field_names) \u001b[38;5;241m>\u001b[39m \u001b[38;5;241m1\u001b[39m:\n\u001b[0;32m    365\u001b[0m         \u001b[38;5;66;03m# field name points to a sub-level field\u001b[39;00m\n",
      "File \u001b[1;32m~\\GitHub\\TTS\\TTS\\config\\__init__.py:94\u001b[0m, in \u001b[0;36mload_config\u001b[1;34m(config_path)\u001b[0m\n\u001b[0;32m     92\u001b[0m config_dict\u001b[38;5;241m.\u001b[39mupdate(data)\n\u001b[0;32m     93\u001b[0m model_name \u001b[38;5;241m=\u001b[39m _process_model_name(config_dict)\n\u001b[1;32m---> 94\u001b[0m config_class \u001b[38;5;241m=\u001b[39m \u001b[43mregister_config\u001b[49m\u001b[43m(\u001b[49m\u001b[43mmodel_name\u001b[49m\u001b[38;5;241;43m.\u001b[39;49m\u001b[43mlower\u001b[49m\u001b[43m(\u001b[49m\u001b[43m)\u001b[49m\u001b[43m)\u001b[49m\n\u001b[0;32m     95\u001b[0m config \u001b[38;5;241m=\u001b[39m config_class()\n\u001b[0;32m     96\u001b[0m config\u001b[38;5;241m.\u001b[39mfrom_dict(config_dict)\n",
      "File \u001b[1;32m~\\GitHub\\TTS\\TTS\\config\\__init__.py:47\u001b[0m, in \u001b[0;36mregister_config\u001b[1;34m(model_name)\u001b[0m\n\u001b[0;32m     45\u001b[0m         \u001b[38;5;28;01mpass\u001b[39;00m\n\u001b[0;32m     46\u001b[0m \u001b[38;5;28;01mif\u001b[39;00m config_class \u001b[38;5;129;01mis\u001b[39;00m \u001b[38;5;28;01mNone\u001b[39;00m:\n\u001b[1;32m---> 47\u001b[0m     \u001b[38;5;28;01mraise\u001b[39;00m \u001b[38;5;167;01mModuleNotFoundError\u001b[39;00m(\u001b[38;5;124mf\u001b[39m\u001b[38;5;124m\"\u001b[39m\u001b[38;5;124m [!] Config for \u001b[39m\u001b[38;5;132;01m{\u001b[39;00mmodel_name\u001b[38;5;132;01m}\u001b[39;00m\u001b[38;5;124m cannot be found.\u001b[39m\u001b[38;5;124m\"\u001b[39m)\n\u001b[0;32m     48\u001b[0m \u001b[38;5;28;01mreturn\u001b[39;00m config_class\n",
      "\u001b[1;31mModuleNotFoundError\u001b[0m:  [!] Config for vits cannot be found."
     ]
    }
   ],
   "source": [
    "from TTS.utils.manage import ModelManager\n",
    "manager = ModelManager(progress_bar=True)\n",
    "MODEL_FILE, *_ = manager.download_model(\"tts_models/multilingual/multi-dataset/your_tts\")"
   ]
  }
 ],
 "metadata": {
  "kernelspec": {
   "display_name": "ttp",
   "language": "python",
   "name": "ttp"
  },
  "language_info": {
   "codemirror_mode": {
    "name": "ipython",
    "version": 3
   },
   "file_extension": ".py",
   "mimetype": "text/x-python",
   "name": "python",
   "nbconvert_exporter": "python",
   "pygments_lexer": "ipython3",
   "version": "3.8.10"
  }
 },
 "nbformat": 4,
 "nbformat_minor": 5
}
