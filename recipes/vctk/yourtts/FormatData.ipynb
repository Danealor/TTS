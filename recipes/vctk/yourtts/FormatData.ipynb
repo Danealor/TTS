{
 "cells": [
  {
   "cell_type": "code",
   "execution_count": 1,
   "id": "a7371874-a861-4e29-83ce-480b649ee963",
   "metadata": {},
   "outputs": [],
   "source": [
    "from TTS.bin.resample import resample_files"
   ]
  },
  {
   "cell_type": "code",
   "execution_count": 2,
   "id": "be407825-94a4-4d32-a7ca-01064557d062",
   "metadata": {},
   "outputs": [
    {
     "name": "stdout",
     "output_type": "stream",
     "text": [
      "Resampling the audio files...\n",
      "Found 131 files...\n"
     ]
    },
    {
     "name": "stderr",
     "output_type": "stream",
     "text": [
      "100%|█████████████████████████████████████████████████████████████████████████████████████████████████████| 131/131 [00:01<00:00, 69.49it/s]"
     ]
    },
    {
     "name": "stdout",
     "output_type": "stream",
     "text": [
      "Done !\n"
     ]
    },
    {
     "name": "stderr",
     "output_type": "stream",
     "text": [
      "\n"
     ]
    }
   ],
   "source": [
    "PATH = \"Worgen/wavs/\"\n",
    "SAMPLE_RATE = 16000\n",
    "NUM_RESAMPLE_THREADS = 10\n",
    "resample_files(PATH, SAMPLE_RATE, file_ext=\"wav\", n_jobs=NUM_RESAMPLE_THREADS)"
   ]
  },
  {
   "cell_type": "code",
   "execution_count": null,
   "id": "779fafdd-85c8-4feb-bc6c-4eb57b33a8bd",
   "metadata": {},
   "outputs": [],
   "source": []
  }
 ],
 "metadata": {
  "kernelspec": {
   "display_name": "ttp",
   "language": "python",
   "name": "ttp"
  },
  "language_info": {
   "codemirror_mode": {
    "name": "ipython",
    "version": 3
   },
   "file_extension": ".py",
   "mimetype": "text/x-python",
   "name": "python",
   "nbconvert_exporter": "python",
   "pygments_lexer": "ipython3",
   "version": "3.8.10"
  }
 },
 "nbformat": 4,
 "nbformat_minor": 5
}
