{
 "cells": [
  {
   "cell_type": "code",
   "execution_count": 1,
   "id": "a7371874-a861-4e29-83ce-480b649ee963",
   "metadata": {},
   "outputs": [],
   "source": [
    "from TTS.bin.resample import resample_files"
   ]
  },
  {
   "cell_type": "code",
   "execution_count": 2,
   "id": "be407825-94a4-4d32-a7ca-01064557d062",
   "metadata": {},
   "outputs": [
    {
     "name": "stdout",
     "output_type": "stream",
     "text": [
      "Resampling the audio files...\n",
      "Found 131 files...\n"
     ]
    },
    {
     "name": "stderr",
     "output_type": "stream",
     "text": [
      "100%|█████████████████████████████████████████████████████████████████████████████████████████████████████| 131/131 [00:01<00:00, 69.49it/s]"
     ]
    },
    {
     "name": "stdout",
     "output_type": "stream",
     "text": [
      "Done !\n"
     ]
    },
    {
     "name": "stderr",
     "output_type": "stream",
     "text": [
      "\n"
     ]
    }
   ],
   "source": [
    "PATH = \"Worgen/wavs/\"\n",
    "SAMPLE_RATE = 16000\n",
    "NUM_RESAMPLE_THREADS = 10\n",
    "resample_files(PATH, SAMPLE_RATE, file_ext=\"wav\", n_jobs=NUM_RESAMPLE_THREADS)"
   ]
  },
  {
   "cell_type": "code",
   "execution_count": 2,
   "id": "ef6e8025-5eff-4adf-9b13-aad2c844aa0f",
   "metadata": {},
   "outputs": [
    {
     "name": "stdout",
     "output_type": "stream",
     "text": [
      "Resampling the audio files...\n",
      "Found 88328 files...\n"
     ]
    },
    {
     "name": "stderr",
     "output_type": "stream",
     "text": [
      "100%|████████████████████████████████████████████████████████████████████████████████████████████████| 88328/88328 [07:43<00:00, 190.38it/s]"
     ]
    },
    {
     "name": "stdout",
     "output_type": "stream",
     "text": [
      "Done !\n"
     ]
    },
    {
     "name": "stderr",
     "output_type": "stream",
     "text": [
      "\n"
     ]
    }
   ],
   "source": [
    "PATH = \"VCTK/\"\n",
    "SAMPLE_RATE = 16000\n",
    "NUM_RESAMPLE_THREADS = 10\n",
    "resample_files(PATH, SAMPLE_RATE, file_ext=\"flac\", n_jobs=NUM_RESAMPLE_THREADS)"
   ]
  },
  {
   "cell_type": "code",
   "execution_count": 2,
   "id": "779fafdd-85c8-4feb-bc6c-4eb57b33a8bd",
   "metadata": {},
   "outputs": [
    {
     "data": {
      "text/plain": [
       "['p362_002_mic1',\n",
       " 'p362_002_mic2',\n",
       " 'p362_003_mic1',\n",
       " 'p362_003_mic2',\n",
       " 'p362_005_mic1',\n",
       " 'p362_005_mic2',\n",
       " 'p362_009_mic1',\n",
       " 'p362_009_mic2',\n",
       " 'p362_010_mic1',\n",
       " 'p362_010_mic2']"
      ]
     },
     "execution_count": 2,
     "metadata": {},
     "output_type": "execute_result"
    }
   ],
   "source": [
    "from pathlib import Path\n",
    "\n",
    "path_p362 = 'VCTK/wav48_silence_trimmed/p362'\n",
    "files = Path(path_p362).glob('*.flac')\n",
    "filenames = [file.stem for file in files]\n",
    "filenames[:10]"
   ]
  },
  {
   "cell_type": "code",
   "execution_count": 10,
   "id": "479558f3-f975-4eda-9287-a47296923fd0",
   "metadata": {},
   "outputs": [
    {
     "data": {
      "text/plain": [
       "['p362_224',\n",
       " 'p362_397',\n",
       " 'p362_308',\n",
       " 'p362_016',\n",
       " 'p362_119',\n",
       " 'p362_312',\n",
       " 'p362_050',\n",
       " 'p362_153',\n",
       " 'p362_213',\n",
       " 'p362_211']"
      ]
     },
     "execution_count": 10,
     "metadata": {},
     "output_type": "execute_result"
    }
   ],
   "source": [
    "import re\n",
    "\n",
    "clipnames = set(re.fullmatch(r'(.*)_.*', file).group(1) for file in filenames)\n",
    "list(clipnames)[:10]"
   ]
  },
  {
   "cell_type": "code",
   "execution_count": 13,
   "id": "15c8ecad-a603-479e-8173-3c79f8302e73",
   "metadata": {},
   "outputs": [
    {
     "name": "stdout",
     "output_type": "stream",
     "text": [
      "Deleted VCTK\\txt\\p362\\p362_001.txt\n",
      "Deleted VCTK\\txt\\p362\\p362_004.txt\n",
      "Deleted VCTK\\txt\\p362\\p362_006.txt\n",
      "Deleted VCTK\\txt\\p362\\p362_007.txt\n",
      "Deleted VCTK\\txt\\p362\\p362_008.txt\n",
      "Deleted VCTK\\txt\\p362\\p362_013.txt\n",
      "Deleted VCTK\\txt\\p362\\p362_014.txt\n",
      "Deleted VCTK\\txt\\p362\\p362_015.txt\n",
      "Deleted VCTK\\txt\\p362\\p362_018.txt\n",
      "Deleted VCTK\\txt\\p362\\p362_020.txt\n",
      "Deleted VCTK\\txt\\p362\\p362_021.txt\n",
      "Deleted VCTK\\txt\\p362\\p362_023.txt\n",
      "Deleted VCTK\\txt\\p362\\p362_024.txt\n",
      "Deleted VCTK\\txt\\p362\\p362_025.txt\n",
      "Deleted VCTK\\txt\\p362\\p362_026.txt\n",
      "Deleted VCTK\\txt\\p362\\p362_031.txt\n",
      "Deleted VCTK\\txt\\p362\\p362_032.txt\n",
      "Deleted VCTK\\txt\\p362\\p362_033.txt\n",
      "Deleted VCTK\\txt\\p362\\p362_034.txt\n",
      "Deleted VCTK\\txt\\p362\\p362_035.txt\n",
      "Deleted VCTK\\txt\\p362\\p362_036.txt\n",
      "Deleted VCTK\\txt\\p362\\p362_038.txt\n",
      "Deleted VCTK\\txt\\p362\\p362_040.txt\n",
      "Deleted VCTK\\txt\\p362\\p362_042.txt\n",
      "Deleted VCTK\\txt\\p362\\p362_043.txt\n",
      "Deleted VCTK\\txt\\p362\\p362_044.txt\n",
      "Deleted VCTK\\txt\\p362\\p362_045.txt\n",
      "Deleted VCTK\\txt\\p362\\p362_046.txt\n",
      "Deleted VCTK\\txt\\p362\\p362_047.txt\n",
      "Deleted VCTK\\txt\\p362\\p362_048.txt\n",
      "Deleted VCTK\\txt\\p362\\p362_049.txt\n",
      "Deleted VCTK\\txt\\p362\\p362_051.txt\n",
      "Deleted VCTK\\txt\\p362\\p362_052.txt\n",
      "Deleted VCTK\\txt\\p362\\p362_056.txt\n",
      "Deleted VCTK\\txt\\p362\\p362_057.txt\n",
      "Deleted VCTK\\txt\\p362\\p362_058.txt\n",
      "Deleted VCTK\\txt\\p362\\p362_059.txt\n",
      "Deleted VCTK\\txt\\p362\\p362_060.txt\n",
      "Deleted VCTK\\txt\\p362\\p362_061.txt\n",
      "Deleted VCTK\\txt\\p362\\p362_062.txt\n",
      "Deleted VCTK\\txt\\p362\\p362_064.txt\n",
      "Deleted VCTK\\txt\\p362\\p362_066.txt\n",
      "Deleted VCTK\\txt\\p362\\p362_067.txt\n",
      "Deleted VCTK\\txt\\p362\\p362_068.txt\n",
      "Deleted VCTK\\txt\\p362\\p362_071.txt\n",
      "Deleted VCTK\\txt\\p362\\p362_072.txt\n",
      "Deleted VCTK\\txt\\p362\\p362_073.txt\n",
      "Deleted VCTK\\txt\\p362\\p362_076.txt\n",
      "Deleted VCTK\\txt\\p362\\p362_077.txt\n",
      "Deleted VCTK\\txt\\p362\\p362_078.txt\n",
      "Deleted VCTK\\txt\\p362\\p362_079.txt\n",
      "Deleted VCTK\\txt\\p362\\p362_080.txt\n",
      "Deleted VCTK\\txt\\p362\\p362_081.txt\n",
      "Deleted VCTK\\txt\\p362\\p362_082.txt\n",
      "Deleted VCTK\\txt\\p362\\p362_083.txt\n",
      "Deleted VCTK\\txt\\p362\\p362_084.txt\n",
      "Deleted VCTK\\txt\\p362\\p362_085.txt\n",
      "Deleted VCTK\\txt\\p362\\p362_086.txt\n",
      "Deleted VCTK\\txt\\p362\\p362_087.txt\n",
      "Deleted VCTK\\txt\\p362\\p362_088.txt\n",
      "Deleted VCTK\\txt\\p362\\p362_089.txt\n",
      "Deleted VCTK\\txt\\p362\\p362_090.txt\n",
      "Deleted VCTK\\txt\\p362\\p362_091.txt\n",
      "Deleted VCTK\\txt\\p362\\p362_092.txt\n",
      "Deleted VCTK\\txt\\p362\\p362_093.txt\n",
      "Deleted VCTK\\txt\\p362\\p362_094.txt\n",
      "Deleted VCTK\\txt\\p362\\p362_096.txt\n",
      "Deleted VCTK\\txt\\p362\\p362_101.txt\n",
      "Deleted VCTK\\txt\\p362\\p362_102.txt\n",
      "Deleted VCTK\\txt\\p362\\p362_104.txt\n",
      "Deleted VCTK\\txt\\p362\\p362_105.txt\n",
      "Deleted VCTK\\txt\\p362\\p362_109.txt\n",
      "Deleted VCTK\\txt\\p362\\p362_116.txt\n",
      "Deleted VCTK\\txt\\p362\\p362_118.txt\n",
      "Deleted VCTK\\txt\\p362\\p362_123.txt\n",
      "Deleted VCTK\\txt\\p362\\p362_124.txt\n",
      "Deleted VCTK\\txt\\p362\\p362_127.txt\n",
      "Deleted VCTK\\txt\\p362\\p362_130.txt\n",
      "Deleted VCTK\\txt\\p362\\p362_131.txt\n",
      "Deleted VCTK\\txt\\p362\\p362_132.txt\n",
      "Deleted VCTK\\txt\\p362\\p362_133.txt\n",
      "Deleted VCTK\\txt\\p362\\p362_135.txt\n",
      "Deleted VCTK\\txt\\p362\\p362_136.txt\n",
      "Deleted VCTK\\txt\\p362\\p362_138.txt\n",
      "Deleted VCTK\\txt\\p362\\p362_139.txt\n",
      "Deleted VCTK\\txt\\p362\\p362_140.txt\n",
      "Deleted VCTK\\txt\\p362\\p362_141.txt\n",
      "Deleted VCTK\\txt\\p362\\p362_142.txt\n",
      "Deleted VCTK\\txt\\p362\\p362_143.txt\n",
      "Deleted VCTK\\txt\\p362\\p362_144.txt\n",
      "Deleted VCTK\\txt\\p362\\p362_145.txt\n",
      "Deleted VCTK\\txt\\p362\\p362_146.txt\n",
      "Deleted VCTK\\txt\\p362\\p362_149.txt\n",
      "Deleted VCTK\\txt\\p362\\p362_150.txt\n",
      "Deleted VCTK\\txt\\p362\\p362_151.txt\n",
      "Deleted VCTK\\txt\\p362\\p362_152.txt\n",
      "Deleted VCTK\\txt\\p362\\p362_155.txt\n",
      "Deleted VCTK\\txt\\p362\\p362_156.txt\n",
      "Deleted VCTK\\txt\\p362\\p362_157.txt\n",
      "Deleted VCTK\\txt\\p362\\p362_159.txt\n",
      "Deleted VCTK\\txt\\p362\\p362_160.txt\n",
      "Deleted VCTK\\txt\\p362\\p362_161.txt\n",
      "Deleted VCTK\\txt\\p362\\p362_162.txt\n",
      "Deleted VCTK\\txt\\p362\\p362_164.txt\n",
      "Deleted VCTK\\txt\\p362\\p362_165.txt\n",
      "Deleted VCTK\\txt\\p362\\p362_166.txt\n",
      "Deleted VCTK\\txt\\p362\\p362_167.txt\n",
      "Deleted VCTK\\txt\\p362\\p362_169.txt\n",
      "Deleted VCTK\\txt\\p362\\p362_170.txt\n",
      "Deleted VCTK\\txt\\p362\\p362_171.txt\n",
      "Deleted VCTK\\txt\\p362\\p362_173.txt\n",
      "Deleted VCTK\\txt\\p362\\p362_174.txt\n",
      "Deleted VCTK\\txt\\p362\\p362_177.txt\n",
      "Deleted VCTK\\txt\\p362\\p362_179.txt\n",
      "Deleted VCTK\\txt\\p362\\p362_180.txt\n",
      "Deleted VCTK\\txt\\p362\\p362_181.txt\n",
      "Deleted VCTK\\txt\\p362\\p362_182.txt\n",
      "Deleted VCTK\\txt\\p362\\p362_183.txt\n",
      "Deleted VCTK\\txt\\p362\\p362_184.txt\n",
      "Deleted VCTK\\txt\\p362\\p362_185.txt\n",
      "Deleted VCTK\\txt\\p362\\p362_186.txt\n",
      "Deleted VCTK\\txt\\p362\\p362_187.txt\n",
      "Deleted VCTK\\txt\\p362\\p362_189.txt\n",
      "Deleted VCTK\\txt\\p362\\p362_190.txt\n",
      "Deleted VCTK\\txt\\p362\\p362_191.txt\n",
      "Deleted VCTK\\txt\\p362\\p362_192.txt\n",
      "Deleted VCTK\\txt\\p362\\p362_193.txt\n",
      "Deleted VCTK\\txt\\p362\\p362_196.txt\n",
      "Deleted VCTK\\txt\\p362\\p362_199.txt\n",
      "Deleted VCTK\\txt\\p362\\p362_200.txt\n",
      "Deleted VCTK\\txt\\p362\\p362_201.txt\n",
      "Deleted VCTK\\txt\\p362\\p362_203.txt\n",
      "Deleted VCTK\\txt\\p362\\p362_204.txt\n",
      "Deleted VCTK\\txt\\p362\\p362_206.txt\n",
      "Deleted VCTK\\txt\\p362\\p362_207.txt\n",
      "Deleted VCTK\\txt\\p362\\p362_208.txt\n",
      "Deleted VCTK\\txt\\p362\\p362_209.txt\n",
      "Deleted VCTK\\txt\\p362\\p362_214.txt\n",
      "Deleted VCTK\\txt\\p362\\p362_215.txt\n",
      "Deleted VCTK\\txt\\p362\\p362_217.txt\n",
      "Deleted VCTK\\txt\\p362\\p362_218.txt\n",
      "Deleted VCTK\\txt\\p362\\p362_219.txt\n",
      "Deleted VCTK\\txt\\p362\\p362_220.txt\n",
      "Deleted VCTK\\txt\\p362\\p362_221.txt\n",
      "Deleted VCTK\\txt\\p362\\p362_223.txt\n",
      "Deleted VCTK\\txt\\p362\\p362_226.txt\n",
      "Deleted VCTK\\txt\\p362\\p362_227.txt\n",
      "Deleted VCTK\\txt\\p362\\p362_228.txt\n",
      "Deleted VCTK\\txt\\p362\\p362_229.txt\n",
      "Deleted VCTK\\txt\\p362\\p362_230.txt\n",
      "Deleted VCTK\\txt\\p362\\p362_231.txt\n",
      "Deleted VCTK\\txt\\p362\\p362_233.txt\n",
      "Deleted VCTK\\txt\\p362\\p362_234.txt\n",
      "Deleted VCTK\\txt\\p362\\p362_235.txt\n",
      "Deleted VCTK\\txt\\p362\\p362_236.txt\n",
      "Deleted VCTK\\txt\\p362\\p362_237.txt\n",
      "Deleted VCTK\\txt\\p362\\p362_238.txt\n",
      "Deleted VCTK\\txt\\p362\\p362_239.txt\n",
      "Deleted VCTK\\txt\\p362\\p362_240.txt\n",
      "Deleted VCTK\\txt\\p362\\p362_241.txt\n",
      "Deleted VCTK\\txt\\p362\\p362_243.txt\n",
      "Deleted VCTK\\txt\\p362\\p362_244.txt\n",
      "Deleted VCTK\\txt\\p362\\p362_245.txt\n",
      "Deleted VCTK\\txt\\p362\\p362_246.txt\n",
      "Deleted VCTK\\txt\\p362\\p362_247.txt\n",
      "Deleted VCTK\\txt\\p362\\p362_249.txt\n",
      "Deleted VCTK\\txt\\p362\\p362_250.txt\n",
      "Deleted VCTK\\txt\\p362\\p362_251.txt\n",
      "Deleted VCTK\\txt\\p362\\p362_252.txt\n",
      "Deleted VCTK\\txt\\p362\\p362_253.txt\n",
      "Deleted VCTK\\txt\\p362\\p362_254.txt\n",
      "Deleted VCTK\\txt\\p362\\p362_256.txt\n",
      "Deleted VCTK\\txt\\p362\\p362_257.txt\n",
      "Deleted VCTK\\txt\\p362\\p362_258.txt\n",
      "Deleted VCTK\\txt\\p362\\p362_259.txt\n",
      "Deleted VCTK\\txt\\p362\\p362_260.txt\n",
      "Deleted VCTK\\txt\\p362\\p362_261.txt\n",
      "Deleted VCTK\\txt\\p362\\p362_262.txt\n",
      "Deleted VCTK\\txt\\p362\\p362_263.txt\n",
      "Deleted VCTK\\txt\\p362\\p362_264.txt\n",
      "Deleted VCTK\\txt\\p362\\p362_265.txt\n",
      "Deleted VCTK\\txt\\p362\\p362_267.txt\n",
      "Deleted VCTK\\txt\\p362\\p362_268.txt\n",
      "Deleted VCTK\\txt\\p362\\p362_269.txt\n",
      "Deleted VCTK\\txt\\p362\\p362_270.txt\n",
      "Deleted VCTK\\txt\\p362\\p362_272.txt\n",
      "Deleted VCTK\\txt\\p362\\p362_273.txt\n",
      "Deleted VCTK\\txt\\p362\\p362_274.txt\n",
      "Deleted VCTK\\txt\\p362\\p362_276.txt\n",
      "Deleted VCTK\\txt\\p362\\p362_277.txt\n",
      "Deleted VCTK\\txt\\p362\\p362_278.txt\n",
      "Deleted VCTK\\txt\\p362\\p362_280.txt\n",
      "Deleted VCTK\\txt\\p362\\p362_281.txt\n",
      "Deleted VCTK\\txt\\p362\\p362_283.txt\n",
      "Deleted VCTK\\txt\\p362\\p362_284.txt\n",
      "Deleted VCTK\\txt\\p362\\p362_285.txt\n",
      "Deleted VCTK\\txt\\p362\\p362_287.txt\n",
      "Deleted VCTK\\txt\\p362\\p362_288.txt\n",
      "Deleted VCTK\\txt\\p362\\p362_289.txt\n",
      "Deleted VCTK\\txt\\p362\\p362_290.txt\n",
      "Deleted VCTK\\txt\\p362\\p362_292.txt\n",
      "Deleted VCTK\\txt\\p362\\p362_293.txt\n",
      "Deleted VCTK\\txt\\p362\\p362_294.txt\n",
      "Deleted VCTK\\txt\\p362\\p362_295.txt\n",
      "Deleted VCTK\\txt\\p362\\p362_296.txt\n",
      "Deleted VCTK\\txt\\p362\\p362_300.txt\n",
      "Deleted VCTK\\txt\\p362\\p362_301.txt\n",
      "Deleted VCTK\\txt\\p362\\p362_303.txt\n",
      "Deleted VCTK\\txt\\p362\\p362_304.txt\n",
      "Deleted VCTK\\txt\\p362\\p362_305.txt\n",
      "Deleted VCTK\\txt\\p362\\p362_306.txt\n",
      "Deleted VCTK\\txt\\p362\\p362_307.txt\n",
      "Deleted VCTK\\txt\\p362\\p362_309.txt\n",
      "Deleted VCTK\\txt\\p362\\p362_310.txt\n",
      "Deleted VCTK\\txt\\p362\\p362_311.txt\n",
      "Deleted VCTK\\txt\\p362\\p362_313.txt\n",
      "Deleted VCTK\\txt\\p362\\p362_314.txt\n",
      "Deleted VCTK\\txt\\p362\\p362_315.txt\n",
      "Deleted VCTK\\txt\\p362\\p362_316.txt\n",
      "Deleted VCTK\\txt\\p362\\p362_318.txt\n",
      "Deleted VCTK\\txt\\p362\\p362_319.txt\n",
      "Deleted VCTK\\txt\\p362\\p362_320.txt\n",
      "Deleted VCTK\\txt\\p362\\p362_324.txt\n",
      "Deleted VCTK\\txt\\p362\\p362_325.txt\n",
      "Deleted VCTK\\txt\\p362\\p362_326.txt\n",
      "Deleted VCTK\\txt\\p362\\p362_327.txt\n",
      "Deleted VCTK\\txt\\p362\\p362_328.txt\n",
      "Deleted VCTK\\txt\\p362\\p362_330.txt\n",
      "Deleted VCTK\\txt\\p362\\p362_331.txt\n",
      "Deleted VCTK\\txt\\p362\\p362_332.txt\n",
      "Deleted VCTK\\txt\\p362\\p362_333.txt\n",
      "Deleted VCTK\\txt\\p362\\p362_334.txt\n",
      "Deleted VCTK\\txt\\p362\\p362_335.txt\n",
      "Deleted VCTK\\txt\\p362\\p362_336.txt\n",
      "Deleted VCTK\\txt\\p362\\p362_339.txt\n",
      "Deleted VCTK\\txt\\p362\\p362_341.txt\n",
      "Deleted VCTK\\txt\\p362\\p362_342.txt\n",
      "Deleted VCTK\\txt\\p362\\p362_343.txt\n",
      "Deleted VCTK\\txt\\p362\\p362_346.txt\n",
      "Deleted VCTK\\txt\\p362\\p362_348.txt\n",
      "Deleted VCTK\\txt\\p362\\p362_349.txt\n",
      "Deleted VCTK\\txt\\p362\\p362_350.txt\n",
      "Deleted VCTK\\txt\\p362\\p362_351.txt\n",
      "Deleted VCTK\\txt\\p362\\p362_352.txt\n",
      "Deleted VCTK\\txt\\p362\\p362_353.txt\n",
      "Deleted VCTK\\txt\\p362\\p362_354.txt\n",
      "Deleted VCTK\\txt\\p362\\p362_355.txt\n",
      "Deleted VCTK\\txt\\p362\\p362_357.txt\n",
      "Deleted VCTK\\txt\\p362\\p362_358.txt\n",
      "Deleted VCTK\\txt\\p362\\p362_359.txt\n",
      "Deleted VCTK\\txt\\p362\\p362_360.txt\n",
      "Deleted VCTK\\txt\\p362\\p362_361.txt\n",
      "Deleted VCTK\\txt\\p362\\p362_363.txt\n",
      "Deleted VCTK\\txt\\p362\\p362_365.txt\n",
      "Deleted VCTK\\txt\\p362\\p362_366.txt\n",
      "Deleted VCTK\\txt\\p362\\p362_367.txt\n",
      "Deleted VCTK\\txt\\p362\\p362_368.txt\n",
      "Deleted VCTK\\txt\\p362\\p362_370.txt\n",
      "Deleted VCTK\\txt\\p362\\p362_371.txt\n",
      "Deleted VCTK\\txt\\p362\\p362_372.txt\n",
      "Deleted VCTK\\txt\\p362\\p362_375.txt\n",
      "Deleted VCTK\\txt\\p362\\p362_376.txt\n",
      "Deleted VCTK\\txt\\p362\\p362_377.txt\n",
      "Deleted VCTK\\txt\\p362\\p362_378.txt\n",
      "Deleted VCTK\\txt\\p362\\p362_379.txt\n",
      "Deleted VCTK\\txt\\p362\\p362_381.txt\n",
      "Deleted VCTK\\txt\\p362\\p362_382.txt\n",
      "Deleted VCTK\\txt\\p362\\p362_384.txt\n",
      "Deleted VCTK\\txt\\p362\\p362_385.txt\n",
      "Deleted VCTK\\txt\\p362\\p362_386.txt\n",
      "Deleted VCTK\\txt\\p362\\p362_387.txt\n",
      "Deleted VCTK\\txt\\p362\\p362_388.txt\n",
      "Deleted VCTK\\txt\\p362\\p362_389.txt\n",
      "Deleted VCTK\\txt\\p362\\p362_391.txt\n",
      "Deleted VCTK\\txt\\p362\\p362_393.txt\n",
      "Deleted VCTK\\txt\\p362\\p362_394.txt\n",
      "Deleted VCTK\\txt\\p362\\p362_395.txt\n",
      "Deleted VCTK\\txt\\p362\\p362_396.txt\n",
      "Deleted VCTK\\txt\\p362\\p362_398.txt\n",
      "Deleted VCTK\\txt\\p362\\p362_400.txt\n",
      "Deleted VCTK\\txt\\p362\\p362_401.txt\n",
      "Deleted VCTK\\txt\\p362\\p362_402.txt\n",
      "Deleted VCTK\\txt\\p362\\p362_403.txt\n",
      "Deleted VCTK\\txt\\p362\\p362_404.txt\n",
      "Deleted VCTK\\txt\\p362\\p362_405.txt\n",
      "Deleted VCTK\\txt\\p362\\p362_407.txt\n",
      "Deleted VCTK\\txt\\p362\\p362_408.txt\n",
      "Deleted VCTK\\txt\\p362\\p362_409.txt\n",
      "Deleted VCTK\\txt\\p362\\p362_411.txt\n",
      "Deleted VCTK\\txt\\p362\\p362_412.txt\n",
      "Deleted VCTK\\txt\\p362\\p362_413.txt\n",
      "Deleted VCTK\\txt\\p362\\p362_414.txt\n",
      "Deleted VCTK\\txt\\p362\\p362_415.txt\n",
      "Deleted VCTK\\txt\\p362\\p362_416.txt\n",
      "Deleted VCTK\\txt\\p362\\p362_419.txt\n",
      "Deleted VCTK\\txt\\p362\\p362_420.txt\n",
      "Deleted VCTK\\txt\\p362\\p362_421.txt\n",
      "Deleted VCTK\\txt\\p362\\p362_422.txt\n",
      "Deleted VCTK\\txt\\p362\\p362_423.txt\n",
      "Deleted VCTK\\txt\\p362\\p362_424.txt\n"
     ]
    }
   ],
   "source": [
    "import os\n",
    "\n",
    "path_p362 = 'VCTK/txt/p362'\n",
    "files = Path(path_p362).glob('*.txt')\n",
    "for file in files:\n",
    "    if file.stem not in clipnames:\n",
    "        os.remove(file)\n",
    "        print(f'Deleted {file}')"
   ]
  },
  {
   "cell_type": "code",
   "execution_count": 1,
   "id": "bcb467b3-be18-4d37-869e-a367641e8565",
   "metadata": {},
   "outputs": [],
   "source": [
    "import torchaudio"
   ]
  },
  {
   "cell_type": "code",
   "execution_count": 5,
   "id": "51df4ea3-2cd7-42f8-a31c-dd6e90d27ad8",
   "metadata": {},
   "outputs": [
    {
     "name": "stdout",
     "output_type": "stream",
     "text": [
      "tensor(-0.7020) tensor(0.7907)\n"
     ]
    }
   ],
   "source": [
    "x, sr = torchaudio.load(r\"C:\\Users\\iambl\\GitHub\\TTS\\recipes\\vctk\\yourtts\\VCTK\\wav48_silence_trimmed\\p225\\p225_001_mic1.flac\")\n",
    "print(x.min(), x.max())"
   ]
  },
  {
   "cell_type": "code",
   "execution_count": 12,
   "id": "db33ab00-781d-471a-ba68-f8b0d2649361",
   "metadata": {},
   "outputs": [
    {
     "ename": "KeyboardInterrupt",
     "evalue": "",
     "output_type": "error",
     "traceback": [
      "\u001b[1;31m---------------------------------------------------------------------------\u001b[0m",
      "\u001b[1;31mKeyboardInterrupt\u001b[0m                         Traceback (most recent call last)",
      "Cell \u001b[1;32mIn[12], line 7\u001b[0m\n\u001b[0;32m      5\u001b[0m maxs \u001b[38;5;241m=\u001b[39m []\n\u001b[0;32m      6\u001b[0m \u001b[38;5;28;01mfor\u001b[39;00m file \u001b[38;5;129;01min\u001b[39;00m Path(path_vctk)\u001b[38;5;241m.\u001b[39mglob(\u001b[38;5;124m'\u001b[39m\u001b[38;5;124m*/*.flac\u001b[39m\u001b[38;5;124m'\u001b[39m):\n\u001b[1;32m----> 7\u001b[0m     x, sr \u001b[38;5;241m=\u001b[39m \u001b[43mtorchaudio\u001b[49m\u001b[38;5;241;43m.\u001b[39;49m\u001b[43mload\u001b[49m\u001b[43m(\u001b[49m\u001b[38;5;28;43mstr\u001b[39;49m\u001b[43m(\u001b[49m\u001b[43mfile\u001b[49m\u001b[43m)\u001b[49m\u001b[43m)\u001b[49m\n\u001b[0;32m      8\u001b[0m     mins\u001b[38;5;241m.\u001b[39mappend(x\u001b[38;5;241m.\u001b[39mmin())\n\u001b[0;32m      9\u001b[0m     maxs\u001b[38;5;241m.\u001b[39mappend(x\u001b[38;5;241m.\u001b[39mmax())\n",
      "File \u001b[1;32m~\\GitHub\\TTS\\venv\\lib\\site-packages\\torchaudio\\backend\\soundfile_backend.py:205\u001b[0m, in \u001b[0;36mload\u001b[1;34m(filepath, frame_offset, num_frames, normalize, channels_first, format)\u001b[0m\n\u001b[0;32m    123\u001b[0m \u001b[38;5;129m@_mod_utils\u001b[39m\u001b[38;5;241m.\u001b[39mrequires_soundfile()\n\u001b[0;32m    124\u001b[0m \u001b[38;5;28;01mdef\u001b[39;00m \u001b[38;5;21mload\u001b[39m(\n\u001b[0;32m    125\u001b[0m     filepath: \u001b[38;5;28mstr\u001b[39m,\n\u001b[1;32m   (...)\u001b[0m\n\u001b[0;32m    130\u001b[0m     \u001b[38;5;28mformat\u001b[39m: Optional[\u001b[38;5;28mstr\u001b[39m] \u001b[38;5;241m=\u001b[39m \u001b[38;5;28;01mNone\u001b[39;00m,\n\u001b[0;32m    131\u001b[0m ) \u001b[38;5;241m-\u001b[39m\u001b[38;5;241m>\u001b[39m Tuple[torch\u001b[38;5;241m.\u001b[39mTensor, \u001b[38;5;28mint\u001b[39m]:\n\u001b[0;32m    132\u001b[0m \u001b[38;5;250m    \u001b[39m\u001b[38;5;124;03m\"\"\"Load audio data from file.\u001b[39;00m\n\u001b[0;32m    133\u001b[0m \n\u001b[0;32m    134\u001b[0m \u001b[38;5;124;03m    Note:\u001b[39;00m\n\u001b[1;32m   (...)\u001b[0m\n\u001b[0;32m    203\u001b[0m \u001b[38;5;124;03m            `[channel, time]` else `[time, channel]`.\u001b[39;00m\n\u001b[0;32m    204\u001b[0m \u001b[38;5;124;03m    \"\"\"\u001b[39;00m\n\u001b[1;32m--> 205\u001b[0m     \u001b[38;5;28;01mwith\u001b[39;00m \u001b[43msoundfile\u001b[49m\u001b[38;5;241;43m.\u001b[39;49m\u001b[43mSoundFile\u001b[49m\u001b[43m(\u001b[49m\u001b[43mfilepath\u001b[49m\u001b[43m,\u001b[49m\u001b[43m \u001b[49m\u001b[38;5;124;43m\"\u001b[39;49m\u001b[38;5;124;43mr\u001b[39;49m\u001b[38;5;124;43m\"\u001b[39;49m\u001b[43m)\u001b[49m \u001b[38;5;28;01mas\u001b[39;00m file_:\n\u001b[0;32m    206\u001b[0m         \u001b[38;5;28;01mif\u001b[39;00m file_\u001b[38;5;241m.\u001b[39mformat \u001b[38;5;241m!=\u001b[39m \u001b[38;5;124m\"\u001b[39m\u001b[38;5;124mWAV\u001b[39m\u001b[38;5;124m\"\u001b[39m \u001b[38;5;129;01mor\u001b[39;00m normalize:\n\u001b[0;32m    207\u001b[0m             dtype \u001b[38;5;241m=\u001b[39m \u001b[38;5;124m\"\u001b[39m\u001b[38;5;124mfloat32\u001b[39m\u001b[38;5;124m\"\u001b[39m\n",
      "File \u001b[1;32m~\\GitHub\\TTS\\venv\\lib\\site-packages\\soundfile.py:740\u001b[0m, in \u001b[0;36mSoundFile.__init__\u001b[1;34m(self, file, mode, samplerate, channels, subtype, endian, format, closefd)\u001b[0m\n\u001b[0;32m    737\u001b[0m \u001b[38;5;28mself\u001b[39m\u001b[38;5;241m.\u001b[39m_mode \u001b[38;5;241m=\u001b[39m mode\n\u001b[0;32m    738\u001b[0m \u001b[38;5;28mself\u001b[39m\u001b[38;5;241m.\u001b[39m_info \u001b[38;5;241m=\u001b[39m _create_info_struct(file, mode, samplerate, channels,\n\u001b[0;32m    739\u001b[0m                                  \u001b[38;5;28mformat\u001b[39m, subtype, endian)\n\u001b[1;32m--> 740\u001b[0m \u001b[38;5;28mself\u001b[39m\u001b[38;5;241m.\u001b[39m_file \u001b[38;5;241m=\u001b[39m \u001b[38;5;28;43mself\u001b[39;49m\u001b[38;5;241;43m.\u001b[39;49m\u001b[43m_open\u001b[49m\u001b[43m(\u001b[49m\u001b[43mfile\u001b[49m\u001b[43m,\u001b[49m\u001b[43m \u001b[49m\u001b[43mmode_int\u001b[49m\u001b[43m,\u001b[49m\u001b[43m \u001b[49m\u001b[43mclosefd\u001b[49m\u001b[43m)\u001b[49m\n\u001b[0;32m    741\u001b[0m \u001b[38;5;28;01mif\u001b[39;00m \u001b[38;5;28mset\u001b[39m(mode)\u001b[38;5;241m.\u001b[39missuperset(\u001b[38;5;124m'\u001b[39m\u001b[38;5;124mr+\u001b[39m\u001b[38;5;124m'\u001b[39m) \u001b[38;5;129;01mand\u001b[39;00m \u001b[38;5;28mself\u001b[39m\u001b[38;5;241m.\u001b[39mseekable():\n\u001b[0;32m    742\u001b[0m     \u001b[38;5;66;03m# Move write position to 0 (like in Python file objects)\u001b[39;00m\n\u001b[0;32m    743\u001b[0m     \u001b[38;5;28mself\u001b[39m\u001b[38;5;241m.\u001b[39mseek(\u001b[38;5;241m0\u001b[39m)\n",
      "File \u001b[1;32m~\\GitHub\\TTS\\venv\\lib\\site-packages\\soundfile.py:1256\u001b[0m, in \u001b[0;36mSoundFile._open\u001b[1;34m(self, file, mode_int, closefd)\u001b[0m\n\u001b[0;32m   1254\u001b[0m         \u001b[38;5;28;01melse\u001b[39;00m:\n\u001b[0;32m   1255\u001b[0m             file \u001b[38;5;241m=\u001b[39m file\u001b[38;5;241m.\u001b[39mencode(_sys\u001b[38;5;241m.\u001b[39mgetfilesystemencoding())\n\u001b[1;32m-> 1256\u001b[0m     file_ptr \u001b[38;5;241m=\u001b[39m \u001b[43mopenfunction\u001b[49m\u001b[43m(\u001b[49m\u001b[43mfile\u001b[49m\u001b[43m,\u001b[49m\u001b[43m \u001b[49m\u001b[43mmode_int\u001b[49m\u001b[43m,\u001b[49m\u001b[43m \u001b[49m\u001b[38;5;28;43mself\u001b[39;49m\u001b[38;5;241;43m.\u001b[39;49m\u001b[43m_info\u001b[49m\u001b[43m)\u001b[49m\n\u001b[0;32m   1257\u001b[0m \u001b[38;5;28;01melif\u001b[39;00m \u001b[38;5;28misinstance\u001b[39m(file, \u001b[38;5;28mint\u001b[39m):\n\u001b[0;32m   1258\u001b[0m     file_ptr \u001b[38;5;241m=\u001b[39m _snd\u001b[38;5;241m.\u001b[39msf_open_fd(file, mode_int, \u001b[38;5;28mself\u001b[39m\u001b[38;5;241m.\u001b[39m_info, closefd)\n",
      "\u001b[1;31mKeyboardInterrupt\u001b[0m: "
     ]
    }
   ],
   "source": [
    "from pathlib import Path\n",
    "\n",
    "path_vctk = 'VCTK/wav48_silence_trimmed'\n",
    "mins = []\n",
    "maxs = []\n",
    "for file in Path(path_vctk).glob('*/*.flac'):\n",
    "    x, sr = torchaudio.load(str(file))\n",
    "    mins.append(x.min())\n",
    "    maxs.append(x.max())"
   ]
  },
  {
   "cell_type": "code",
   "execution_count": 16,
   "id": "8d763ff9-e512-42e9-8e8c-b60e056a4880",
   "metadata": {},
   "outputs": [],
   "source": [
    "from tqdm import tqdm\n",
    "from multiprocess import Pool\n",
    "import glob\n",
    "import os\n",
    "\n",
    "def clip_file(filename):\n",
    "    import torchaudio\n",
    "    try:\n",
    "        x, sr = torchaudio.load(filename)\n",
    "    except Exception as e:\n",
    "        return f\"ERROR! Failed to load {filename}: {e}\", 0, 0\n",
    "    amin = x.min()\n",
    "    amax = x.max()\n",
    "    if amin < -1 or amax > 1:\n",
    "        x = x.clip(-1,1)\n",
    "        torchaudio.save(filename, x, sr)\n",
    "        # Check that it worked\n",
    "        x, sr = torchaudio.load(filename)\n",
    "        if (x > 1).sum() + (x < -1).sum() == 0:\n",
    "            return f\"ERROR! Failed to clip {filename}: Min={x.min()}, Max={x.max()}\", amin, amax\n",
    "    return \"\", amin, amax\n",
    "\n",
    "def clip_files(input_dir, output_dir=None, file_ext=\"wav\", n_jobs=10):\n",
    "    if output_dir:\n",
    "        print(\"Recursively copying the input folder...\")\n",
    "        copy_tree(input_dir, output_dir)\n",
    "        input_dir = output_dir\n",
    "\n",
    "    print(\"Clipping the audio files...\")\n",
    "    audio_files = glob.glob(os.path.join(input_dir, f\"**/*.{file_ext}\"), recursive=True)\n",
    "    print(f\"Found {len(audio_files)} files...\")\n",
    "    minmax = []\n",
    "    with Pool(processes=n_jobs) as p:\n",
    "        with tqdm(total=len(audio_files)) as pbar:\n",
    "            for msg, amin, amax in p.imap_unordered(clip_file, audio_files):\n",
    "                if msg:\n",
    "                    print(msg)\n",
    "                minmax.append((amin, amax))\n",
    "                pbar.update()\n",
    "\n",
    "    print(\"Done !\")\n",
    "    return minmax"
   ]
  },
  {
   "cell_type": "code",
   "execution_count": 17,
   "id": "86f16c0e-c337-401f-93f3-47d688f3022f",
   "metadata": {},
   "outputs": [
    {
     "name": "stdout",
     "output_type": "stream",
     "text": [
      "Clipping the audio files...\n",
      "Found 88328 files...\n"
     ]
    },
    {
     "name": "stderr",
     "output_type": "stream",
     "text": [
      "  0%|                                                                                                    | 48/88328 [00:01<38:19, 38.39it/s]"
     ]
    },
    {
     "name": "stdout",
     "output_type": "stream",
     "text": [
      "ERROR! Failed to load VCTK\\wav48_silence_trimmed\\p225\\p225_017_mic1.flac: array is too big; `arr.size * arr.dtype.itemsize` is larger than the maximum possible size.\n"
     ]
    },
    {
     "name": "stderr",
     "output_type": "stream",
     "text": [
      "  0%|▍                                                                                                 | 378/88328 [00:02<03:35, 408.44it/s]"
     ]
    },
    {
     "name": "stdout",
     "output_type": "stream",
     "text": [
      "ERROR! Failed to clip VCTK\\wav48_silence_trimmed\\p225\\p225_002_mic1.flac: Min=-0.998504638671875, Max=0.998992919921875\n"
     ]
    },
    {
     "name": "stderr",
     "output_type": "stream",
     "text": [
      "  2%|██▎                                                                                             | 2169/88328 [00:03<00:41, 2052.90it/s]"
     ]
    },
    {
     "name": "stdout",
     "output_type": "stream",
     "text": [
      "ERROR! Failed to clip VCTK\\wav48_silence_trimmed\\p227\\p227_304_mic1.flac: Min=-0.991912841796875, Max=0.998992919921875\n"
     ]
    },
    {
     "name": "stderr",
     "output_type": "stream",
     "text": [
      "  7%|██████▍                                                                                         | 5923/88328 [00:04<00:35, 2312.88it/s]"
     ]
    },
    {
     "name": "stdout",
     "output_type": "stream",
     "text": [
      "ERROR! Failed to clip VCTK\\wav48_silence_trimmed\\p232\\p232_159_mic2.flac: Min=-0.998992919921875, Max=0.998992919921875\n"
     ]
    },
    {
     "name": "stderr",
     "output_type": "stream",
     "text": [
      " 18%|█████████████████                                                                              | 15850/88328 [00:08<00:31, 2268.29it/s]"
     ]
    },
    {
     "name": "stdout",
     "output_type": "stream",
     "text": [
      "ERROR! Failed to clip VCTK\\wav48_silence_trimmed\\p247\\p247_019_mic1.flac: Min=-0.998992919921875, Max=0.998992919921875\n"
     ]
    },
    {
     "name": "stderr",
     "output_type": "stream",
     "text": [
      " 44%|█████████████████████████████████████████▎                                                     | 38446/88328 [00:18<00:21, 2349.24it/s]"
     ]
    },
    {
     "name": "stdout",
     "output_type": "stream",
     "text": [
      "ERROR! Failed to clip VCTK\\wav48_silence_trimmed\\p274\\p274_123_mic1.flac: Min=-0.997802734375, Max=0.998992919921875\n"
     ]
    },
    {
     "name": "stderr",
     "output_type": "stream",
     "text": [
      " 55%|████████████████████████████████████████████████████▍                                          | 48758/88328 [00:23<00:21, 1828.06it/s]"
     ]
    },
    {
     "name": "stdout",
     "output_type": "stream",
     "text": [
      "ERROR! Failed to clip VCTK\\wav48_silence_trimmed\\p286\\p286_368_mic1.flac: Min=-0.97125244140625, Max=0.998992919921875\n"
     ]
    },
    {
     "name": "stderr",
     "output_type": "stream",
     "text": [
      " 63%|████████████████████████████████████████████████████████████▏                                  | 55983/88328 [00:26<00:13, 2327.73it/s]"
     ]
    },
    {
     "name": "stdout",
     "output_type": "stream",
     "text": [
      "ERROR! Failed to clip VCTK\\wav48_silence_trimmed\\p299\\p299_211_mic1.flac: Min=-0.996063232421875, Max=0.998992919921875\n",
      "ERROR! Failed to clip VCTK\\wav48_silence_trimmed\\p299\\p299_288_mic1.flac: Min=-0.98919677734375, Max=0.998992919921875\n"
     ]
    },
    {
     "name": "stderr",
     "output_type": "stream",
     "text": [
      " 73%|█████████████████████████████████████████████████████████████████████▍                         | 64609/88328 [00:30<00:10, 2301.42it/s]"
     ]
    },
    {
     "name": "stdout",
     "output_type": "stream",
     "text": [
      "ERROR! Failed to clip VCTK\\wav48_silence_trimmed\\p311\\p311_241_mic1.flac: Min=-0.94671630859375, Max=0.998992919921875\n"
     ]
    },
    {
     "name": "stderr",
     "output_type": "stream",
     "text": [
      " 74%|█████████████████████████████████████████████████████████████████████▉                         | 65076/88328 [00:30<00:10, 2317.00it/s]"
     ]
    },
    {
     "name": "stdout",
     "output_type": "stream",
     "text": [
      "ERROR! Failed to clip VCTK\\wav48_silence_trimmed\\p312\\p312_032_mic2.flac: Min=-0.954437255859375, Max=0.998992919921875\n"
     ]
    },
    {
     "name": "stderr",
     "output_type": "stream",
     "text": [
      " 80%|████████████████████████████████████████████████████████████████████████████                   | 70725/88328 [00:32<00:07, 2315.82it/s]"
     ]
    },
    {
     "name": "stdout",
     "output_type": "stream",
     "text": [
      "ERROR! Failed to clip VCTK\\wav48_silence_trimmed\\p323\\p323_262_mic1.flac: Min=-0.998992919921875, Max=0.998992919921875\n",
      "ERROR! Failed to clip VCTK\\wav48_silence_trimmed\\p323\\p323_359_mic1.flac: Min=-0.996002197265625, Max=0.998992919921875\n",
      "ERROR! Failed to clip VCTK\\wav48_silence_trimmed\\p323\\p323_373_mic1.flac: Min=-0.998992919921875, Max=0.998992919921875\n",
      "ERROR! Failed to clip VCTK\\wav48_silence_trimmed\\p323\\p323_388_mic1.flac: Min=-0.98077392578125, Max=0.998992919921875\n"
     ]
    },
    {
     "name": "stderr",
     "output_type": "stream",
     "text": [
      "100%|██████████████████████████████████████████████████████████████████████████████████████████████▌| 87933/88328 [00:40<00:00, 2338.44it/s]"
     ]
    },
    {
     "name": "stdout",
     "output_type": "stream",
     "text": [
      "ERROR! Failed to clip VCTK\\wav48_silence_trimmed\\s5\\s5_017_mic1.flac: Min=-0.998870849609375, Max=0.998992919921875\n"
     ]
    },
    {
     "name": "stderr",
     "output_type": "stream",
     "text": [
      "100%|███████████████████████████████████████████████████████████████████████████████████████████████| 88328/88328 [00:40<00:00, 2185.32it/s]\n"
     ]
    },
    {
     "name": "stdout",
     "output_type": "stream",
     "text": [
      "Done !\n"
     ]
    }
   ],
   "source": [
    "PATH = \"VCTK/\"\n",
    "NUM_RESAMPLE_THREADS = 10\n",
    "minmax = clip_files(PATH, file_ext=\"flac\", n_jobs=NUM_RESAMPLE_THREADS)"
   ]
  },
  {
   "cell_type": "code",
   "execution_count": 4,
   "id": "68be59db-3e9b-421c-92d9-b4fa781492c8",
   "metadata": {},
   "outputs": [
    {
     "data": {
      "text/plain": [
       "(array([   15.,  2502.,  5007.,  6398.,  8096.,  9548., 11746., 11945.,\n",
       "        10402.,  7829.,  5494.,  3491.,  2061.,  1282.,   771.,   390.,\n",
       "          250.,   102.,   914.,    85.]),\n",
       " array([0.00338745, 0.05821808, 0.11304871, 0.16787934, 0.22270997,\n",
       "        0.27754059, 0.33237123, 0.38720185, 0.44203249, 0.4968631 ,\n",
       "        0.55169374, 0.60652435, 0.66135502, 0.71618563, 0.77101624,\n",
       "        0.82584691, 0.88067752, 0.93550813, 0.99033874, 1.04516935,\n",
       "        1.10000002]),\n",
       " <BarContainer object of 20 artists>)"
      ]
     },
     "execution_count": 4,
     "metadata": {},
     "output_type": "execute_result"
    },
    {
     "data": {
      "image/png": "[encoded data removed]",
      "text/plain": [
       "<Figure size 640x480 with 1 Axes>"
      ]
     },
     "metadata": {},
     "output_type": "display_data"
    }
   ],
   "source": [
    "import numpy as np\n",
    "import matplotlib.pyplot as plt\n",
    "\n",
    "n_bins = 20\n",
    "\n",
    "minmax_arr = np.array(minmax)\n",
    "plt.hist(minmax_arr[:,0].clip(-1.1,1.1), bins=n_bins, label=\"Min\")\n",
    "plt.hist(minmax_arr[:,1].clip(-1.1,1.1), bins=n_bins, label=\"Max\")"
   ]
  },
  {
   "cell_type": "code",
   "execution_count": 5,
   "id": "c0fb7190-192d-4e84-bee2-03c5bba1af22",
   "metadata": {},
   "outputs": [
    {
     "name": "stdout",
     "output_type": "stream",
     "text": [
      "Num files: 88328\n",
      "Num w/ min<-1: 76\n",
      "Num w/ max>1: 85\n"
     ]
    }
   ],
   "source": [
    "print(\"Num files:\", len(minmax_arr))\n",
    "print(\"Num w/ min<-1:\", np.count_nonzero(minmax_arr[:,0]<-1))\n",
    "print(\"Num w/ max>1:\", np.count_nonzero(minmax_arr[:,1]>1))"
   ]
  },
  {
   "cell_type": "code",
   "execution_count": 20,
   "id": "e6aedbda-1c5b-40d4-942a-5ba51cd5e733",
   "metadata": {},
   "outputs": [],
   "source": [
    "from TTS.bin.resample import resample_file\n",
    "resample_file((r\"C:\\Users\\iambl\\GitHub\\TTS\\recipes\\vctk\\yourtts\\VCTK\\wav48_silence_trimmed\\p225\\p225_017_mic1.flac\", 16000))"
   ]
  },
  {
   "cell_type": "code",
   "execution_count": 25,
   "id": "26ad7249-7a88-47c7-b26a-79a1123ce1d8",
   "metadata": {},
   "outputs": [],
   "source": [
    "from tqdm import tqdm\n",
    "from multiprocess import Pool\n",
    "import glob\n",
    "import os\n",
    "\n",
    "def check_file(filename):\n",
    "    import torchaudio\n",
    "    x, sr = torchaudio.load(filename)\n",
    "    if (x > 1).sum() + (x < -1).sum() != 0:\n",
    "        return filename, True\n",
    "    return filename, False\n",
    "\n",
    "def check_files(input_dir, file_ext=\"wav\", n_jobs=10):\n",
    "    print(\"Checking the audio files...\")\n",
    "    audio_files = glob.glob(os.path.join(input_dir, f\"**/*.{file_ext}\"), recursive=True)\n",
    "    print(f\"Found {len(audio_files)} files...\")\n",
    "    failing_files = []\n",
    "    with Pool(processes=n_jobs) as p:\n",
    "        with tqdm(total=len(audio_files)) as pbar:\n",
    "            for file, fails in p.imap_unordered(check_file, audio_files):\n",
    "                if fails:\n",
    "                    failing_files.append(file)\n",
    "                pbar.update()\n",
    "\n",
    "    print(\"Done !\")\n",
    "    return failing_files"
   ]
  },
  {
   "cell_type": "code",
   "execution_count": 26,
   "id": "112dfe87-078a-43e1-94ac-d0b27e5c4fcc",
   "metadata": {},
   "outputs": [
    {
     "name": "stdout",
     "output_type": "stream",
     "text": [
      "Checking the audio files...\n",
      "Found 88328 files...\n"
     ]
    },
    {
     "name": "stderr",
     "output_type": "stream",
     "text": [
      "100%|███████████████████████████████████████████████████████████████████████████████████████████████| 88328/88328 [00:29<00:00, 2972.32it/s]"
     ]
    },
    {
     "name": "stdout",
     "output_type": "stream",
     "text": [
      "Done !\n"
     ]
    },
    {
     "name": "stderr",
     "output_type": "stream",
     "text": [
      "\n"
     ]
    },
    {
     "data": {
      "text/plain": [
       "['VCTK\\\\wav48_silence_trimmed\\\\p225\\\\p225_017_mic1.flac',\n",
       " 'VCTK\\\\wav48_silence_trimmed\\\\p229\\\\p229_018_mic1.flac',\n",
       " 'VCTK\\\\wav48_silence_trimmed\\\\p231\\\\p231_172_mic2.flac',\n",
       " 'VCTK\\\\wav48_silence_trimmed\\\\p233\\\\p233_029_mic1.flac',\n",
       " 'VCTK\\\\wav48_silence_trimmed\\\\p248\\\\p248_138_mic1.flac',\n",
       " 'VCTK\\\\wav48_silence_trimmed\\\\p252\\\\p252_231_mic2.flac',\n",
       " 'VCTK\\\\wav48_silence_trimmed\\\\p253\\\\p253_331_mic1.flac',\n",
       " 'VCTK\\\\wav48_silence_trimmed\\\\p258\\\\p258_409_mic2.flac',\n",
       " 'VCTK\\\\wav48_silence_trimmed\\\\p260\\\\p260_003_mic2.flac',\n",
       " 'VCTK\\\\wav48_silence_trimmed\\\\p262\\\\p262_370_mic1.flac',\n",
       " 'VCTK\\\\wav48_silence_trimmed\\\\p262\\\\p262_370_mic2.flac',\n",
       " 'VCTK\\\\wav48_silence_trimmed\\\\p271\\\\p271_023_mic1.flac',\n",
       " 'VCTK\\\\wav48_silence_trimmed\\\\p279\\\\p279_017_mic2.flac',\n",
       " 'VCTK\\\\wav48_silence_trimmed\\\\p279\\\\p279_266_mic1.flac',\n",
       " 'VCTK\\\\wav48_silence_trimmed\\\\p286\\\\p286_019_mic1.flac',\n",
       " 'VCTK\\\\wav48_silence_trimmed\\\\p288\\\\p288_018_mic1.flac',\n",
       " 'VCTK\\\\wav48_silence_trimmed\\\\p299\\\\p299_221_mic1.flac',\n",
       " 'VCTK\\\\wav48_silence_trimmed\\\\p304\\\\p304_099_mic1.flac',\n",
       " 'VCTK\\\\wav48_silence_trimmed\\\\p311\\\\p311_070_mic1.flac',\n",
       " 'VCTK\\\\wav48_silence_trimmed\\\\p311\\\\p311_080_mic1.flac',\n",
       " 'VCTK\\\\wav48_silence_trimmed\\\\p311\\\\p311_202_mic1.flac',\n",
       " 'VCTK\\\\wav48_silence_trimmed\\\\p311\\\\p311_374_mic1.flac',\n",
       " 'VCTK\\\\wav48_silence_trimmed\\\\p315\\\\p315_349_mic1.flac',\n",
       " 'VCTK\\\\wav48_silence_trimmed\\\\p323\\\\p323_003_mic1.flac',\n",
       " 'VCTK\\\\wav48_silence_trimmed\\\\p323\\\\p323_005_mic1.flac',\n",
       " 'VCTK\\\\wav48_silence_trimmed\\\\p323\\\\p323_029_mic1.flac',\n",
       " 'VCTK\\\\wav48_silence_trimmed\\\\p323\\\\p323_035_mic1.flac',\n",
       " 'VCTK\\\\wav48_silence_trimmed\\\\p323\\\\p323_047_mic1.flac',\n",
       " 'VCTK\\\\wav48_silence_trimmed\\\\p323\\\\p323_058_mic1.flac',\n",
       " 'VCTK\\\\wav48_silence_trimmed\\\\p323\\\\p323_085_mic1.flac',\n",
       " 'VCTK\\\\wav48_silence_trimmed\\\\p323\\\\p323_094_mic1.flac',\n",
       " 'VCTK\\\\wav48_silence_trimmed\\\\p323\\\\p323_095_mic1.flac',\n",
       " 'VCTK\\\\wav48_silence_trimmed\\\\p323\\\\p323_108_mic1.flac',\n",
       " 'VCTK\\\\wav48_silence_trimmed\\\\p323\\\\p323_131_mic1.flac',\n",
       " 'VCTK\\\\wav48_silence_trimmed\\\\p323\\\\p323_171_mic1.flac',\n",
       " 'VCTK\\\\wav48_silence_trimmed\\\\p323\\\\p323_179_mic1.flac',\n",
       " 'VCTK\\\\wav48_silence_trimmed\\\\p323\\\\p323_186_mic1.flac',\n",
       " 'VCTK\\\\wav48_silence_trimmed\\\\p323\\\\p323_208_mic1.flac',\n",
       " 'VCTK\\\\wav48_silence_trimmed\\\\p323\\\\p323_287_mic1.flac',\n",
       " 'VCTK\\\\wav48_silence_trimmed\\\\p323\\\\p323_306_mic1.flac',\n",
       " 'VCTK\\\\wav48_silence_trimmed\\\\p323\\\\p323_315_mic1.flac',\n",
       " 'VCTK\\\\wav48_silence_trimmed\\\\p323\\\\p323_348_mic1.flac',\n",
       " 'VCTK\\\\wav48_silence_trimmed\\\\p323\\\\p323_353_mic1.flac',\n",
       " 'VCTK\\\\wav48_silence_trimmed\\\\p323\\\\p323_365_mic1.flac',\n",
       " 'VCTK\\\\wav48_silence_trimmed\\\\p323\\\\p323_400_mic1.flac',\n",
       " 'VCTK\\\\wav48_silence_trimmed\\\\p323\\\\p323_404_mic1.flac',\n",
       " 'VCTK\\\\wav48_silence_trimmed\\\\p323\\\\p323_405_mic1.flac',\n",
       " 'VCTK\\\\wav48_silence_trimmed\\\\p336\\\\p336_048_mic2.flac',\n",
       " 'VCTK\\\\wav48_silence_trimmed\\\\p339\\\\p339_006_mic1.flac',\n",
       " 'VCTK\\\\wav48_silence_trimmed\\\\s5\\\\s5_060_mic1.flac']"
      ]
     },
     "execution_count": 26,
     "metadata": {},
     "output_type": "execute_result"
    }
   ],
   "source": [
    "PATH = \"VCTK/\"\n",
    "NUM_RESAMPLE_THREADS = 10\n",
    "failing_files = check_files(PATH, file_ext=\"flac\", n_jobs=NUM_RESAMPLE_THREADS)\n",
    "failing_files"
   ]
  },
  {
   "cell_type": "code",
   "execution_count": 38,
   "id": "b97c725b-4273-41ab-9fc4-f692c13d8953",
   "metadata": {},
   "outputs": [
    {
     "data": {
      "text/plain": [
       "[<matplotlib.lines.Line2D at 0x20f1a9cd940>]"
      ]
     },
     "execution_count": 38,
     "metadata": {},
     "output_type": "execute_result"
    },
    {
     "data": {
      "image/png": "[encoded data removed]",
      "text/plain": [
       "<Figure size 640x480 with 1 Axes>"
      ]
     },
     "metadata": {},
     "output_type": "display_data"
    }
   ],
   "source": [
    "import torchaudio\n",
    "import numpy as np\n",
    "import matplotlib.pyplot as plt\n",
    "\n",
    "x, sr = torchaudio.load(failing_files[1])\n",
    "plt.plot(x[0])"
   ]
  },
  {
   "cell_type": "code",
   "execution_count": 36,
   "id": "7fa2c6d1-b1ee-4ff1-8ac7-49cdcb045a87",
   "metadata": {},
   "outputs": [
    {
     "name": "stdout",
     "output_type": "stream",
     "text": [
      "pipe-test.py, running on windows\n",
      "Write to  \"\\\\.\\pipe\\ToSrvPipe\"\n",
      "Read from \"\\\\.\\pipe\\FromSrvPipe\"\n",
      "-- Both pipes exist.  Good.\n"
     ]
    },
    {
     "ename": "OSError",
     "evalue": "[Errno 22] Invalid argument: '\\\\\\\\.\\\\pipe\\\\ToSrvPipe'",
     "output_type": "error",
     "traceback": [
      "\u001b[1;31m---------------------------------------------------------------------------\u001b[0m",
      "\u001b[1;31mOSError\u001b[0m                                   Traceback (most recent call last)",
      "Cell \u001b[1;32mIn[36], line 3\u001b[0m\n\u001b[0;32m      1\u001b[0m \u001b[38;5;28;01mimport\u001b[39;00m \u001b[38;5;21;01maudacity\u001b[39;00m\n\u001b[1;32m----> 3\u001b[0m aud \u001b[38;5;241m=\u001b[39m \u001b[43maudacity\u001b[49m\u001b[38;5;241;43m.\u001b[39;49m\u001b[43mAudacityScript\u001b[49m\u001b[43m(\u001b[49m\u001b[43m)\u001b[49m\n\u001b[0;32m      4\u001b[0m audacity\u001b[38;5;241m.\u001b[39mquick_test(aud)\n",
      "File \u001b[1;32m~\\GitHub\\TTS\\recipes\\vctk\\yourtts\\audacity.py:46\u001b[0m, in \u001b[0;36mAudacityScript.__init__\u001b[1;34m(self)\u001b[0m\n\u001b[0;32m     42\u001b[0m     sys\u001b[38;5;241m.\u001b[39mexit()\n\u001b[0;32m     44\u001b[0m \u001b[38;5;28mprint\u001b[39m(\u001b[38;5;124m\"\u001b[39m\u001b[38;5;124m-- Both pipes exist.  Good.\u001b[39m\u001b[38;5;124m\"\u001b[39m)\n\u001b[1;32m---> 46\u001b[0m \u001b[38;5;28mself\u001b[39m\u001b[38;5;241m.\u001b[39mTOFILE \u001b[38;5;241m=\u001b[39m \u001b[38;5;28;43mopen\u001b[39;49m\u001b[43m(\u001b[49m\u001b[38;5;28;43mself\u001b[39;49m\u001b[38;5;241;43m.\u001b[39;49m\u001b[43mTONAME\u001b[49m\u001b[43m,\u001b[49m\u001b[43m \u001b[49m\u001b[38;5;124;43m'\u001b[39;49m\u001b[38;5;124;43mw\u001b[39;49m\u001b[38;5;124;43m'\u001b[39;49m\u001b[43m)\u001b[49m\n\u001b[0;32m     47\u001b[0m \u001b[38;5;28mprint\u001b[39m(\u001b[38;5;124m\"\u001b[39m\u001b[38;5;124m-- File to write to has been opened\u001b[39m\u001b[38;5;124m\"\u001b[39m)\n\u001b[0;32m     48\u001b[0m \u001b[38;5;28mself\u001b[39m\u001b[38;5;241m.\u001b[39mFROMFILE \u001b[38;5;241m=\u001b[39m \u001b[38;5;28mopen\u001b[39m(\u001b[38;5;28mself\u001b[39m\u001b[38;5;241m.\u001b[39mFROMNAME, \u001b[38;5;124m'\u001b[39m\u001b[38;5;124mrt\u001b[39m\u001b[38;5;124m'\u001b[39m)\n",
      "\u001b[1;31mOSError\u001b[0m: [Errno 22] Invalid argument: '\\\\\\\\.\\\\pipe\\\\ToSrvPipe'"
     ]
    }
   ],
   "source": [
    "import audacity\n",
    "\n",
    "aud = audacity.AudacityScript()\n",
    "audacity.quick_test(aud)"
   ]
  },
  {
   "cell_type": "code",
   "execution_count": 40,
   "id": "a86db481-8373-4c29-973e-b17433a1116b",
   "metadata": {},
   "outputs": [],
   "source": [
    "for file in failing_files:\n",
    "    _, fails = check_file(file)\n",
    "    if fails:\n",
    "        print(file)"
   ]
  }
 ],
 "metadata": {
  "kernelspec": {
   "display_name": "ttp",
   "language": "python",
   "name": "ttp"
  },
  "language_info": {
   "codemirror_mode": {
    "name": "ipython",
    "version": 3
   },
   "file_extension": ".py",
   "mimetype": "text/x-python",
   "name": "python",
   "nbconvert_exporter": "python",
   "pygments_lexer": "ipython3",
   "version": "3.8.10"
  }
 },
 "nbformat": 4,
 "nbformat_minor": 5
}
