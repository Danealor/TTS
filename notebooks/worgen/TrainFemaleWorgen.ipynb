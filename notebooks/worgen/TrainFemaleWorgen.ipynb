{
 "cells": [
  {
   "cell_type": "markdown",
   "id": "0dbbda11-5c36-4e85-b84e-14ac6b73688c",
   "metadata": {},
   "source": [
    "Model: `tts_models/en/vctk/vits`\n",
    "Speakers:\n",
    "- p286: Low breathy male\n",
    "- p287: Very deep male"
   ]
  },
  {
   "cell_type": "code",
   "execution_count": null,
   "id": "2ff6d543-bc5f-4caf-b55e-5e103b8bca80",
   "metadata": {},
   "outputs": [],
   "source": []
  }
 ],
 "metadata": {
  "kernelspec": {
   "display_name": "Python 3 (ipykernel)",
   "language": "python",
   "name": "python3"
  },
  "language_info": {
   "codemirror_mode": {
    "name": "ipython",
    "version": 3
   },
   "file_extension": ".py",
   "mimetype": "text/x-python",
   "name": "python",
   "nbconvert_exporter": "python",
   "pygments_lexer": "ipython3",
   "version": "3.10.7"
  }
 },
 "nbformat": 4,
 "nbformat_minor": 5
}
