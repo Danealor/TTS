{
 "cells": [
  {
   "cell_type": "markdown",
   "id": "1fc26a71-ba4d-4516-b91f-ede5ecdf6c3d",
   "metadata": {},
   "source": [
    "## Test Selenium"
   ]
  },
  {
   "cell_type": "code",
   "execution_count": 1,
   "id": "c0cd2738-1d58-487b-9690-04414e110c26",
   "metadata": {},
   "outputs": [
    {
     "name": "stdout",
     "output_type": "stream",
     "text": [
      "Requirement already satisfied: selenium in c:\\users\\iambl\\github\\tts\\venv\\lib\\site-packages (4.8.0)\n",
      "Requirement already satisfied: trio-websocket~=0.9 in c:\\users\\iambl\\github\\tts\\venv\\lib\\site-packages (from selenium) (0.9.2)\n",
      "Requirement already satisfied: trio~=0.17 in c:\\users\\iambl\\github\\tts\\venv\\lib\\site-packages (from selenium) (0.22.0)\n",
      "Requirement already satisfied: certifi>=2021.10.8 in c:\\users\\iambl\\github\\tts\\venv\\lib\\site-packages (from selenium) (2022.12.7)\n",
      "Requirement already satisfied: urllib3[socks]~=1.26 in c:\\users\\iambl\\github\\tts\\venv\\lib\\site-packages (from selenium) (1.26.14)\n",
      "Requirement already satisfied: async-generator>=1.9 in c:\\users\\iambl\\github\\tts\\venv\\lib\\site-packages (from trio~=0.17->selenium) (1.10)\n",
      "Requirement already satisfied: attrs>=19.2.0 in c:\\users\\iambl\\github\\tts\\venv\\lib\\site-packages (from trio~=0.17->selenium) (22.2.0)\n",
      "Requirement already satisfied: sniffio in c:\\users\\iambl\\github\\tts\\venv\\lib\\site-packages (from trio~=0.17->selenium) (1.3.0)\n",
      "Requirement already satisfied: idna in c:\\users\\iambl\\github\\tts\\venv\\lib\\site-packages (from trio~=0.17->selenium) (3.4)\n",
      "Requirement already satisfied: outcome in c:\\users\\iambl\\github\\tts\\venv\\lib\\site-packages (from trio~=0.17->selenium) (1.2.0)\n",
      "Requirement already satisfied: exceptiongroup>=1.0.0rc9 in c:\\users\\iambl\\github\\tts\\venv\\lib\\site-packages (from trio~=0.17->selenium) (1.1.0)\n",
      "Requirement already satisfied: cffi>=1.14 in c:\\users\\iambl\\github\\tts\\venv\\lib\\site-packages (from trio~=0.17->selenium) (1.15.1)\n",
      "Requirement already satisfied: sortedcontainers in c:\\users\\iambl\\github\\tts\\venv\\lib\\site-packages (from trio~=0.17->selenium) (2.4.0)\n",
      "Requirement already satisfied: wsproto>=0.14 in c:\\users\\iambl\\github\\tts\\venv\\lib\\site-packages (from trio-websocket~=0.9->selenium) (1.2.0)\n",
      "Requirement already satisfied: PySocks!=1.5.7,<2.0,>=1.5.6 in c:\\users\\iambl\\github\\tts\\venv\\lib\\site-packages (from urllib3[socks]~=1.26->selenium) (1.7.1)\n",
      "Requirement already satisfied: pycparser in c:\\users\\iambl\\github\\tts\\venv\\lib\\site-packages (from cffi>=1.14->trio~=0.17->selenium) (2.21)\n",
      "Requirement already satisfied: h11<1,>=0.9.0 in c:\\users\\iambl\\github\\tts\\venv\\lib\\site-packages (from wsproto>=0.14->trio-websocket~=0.9->selenium) (0.14.0)\n"
     ]
    }
   ],
   "source": [
    "!pip install selenium"
   ]
  },
  {
   "cell_type": "code",
   "execution_count": 5,
   "id": "a66db584-73f0-432e-8965-6239440b2d9b",
   "metadata": {},
   "outputs": [],
   "source": [
    "from selenium import webdriver\n",
    "from selenium.webdriver.common.by import By\n",
    "\n",
    "driver = webdriver.Edge()\n",
    "driver.get(\"https://www.wowhead.com/sounds/name:WorgenFemale\")"
   ]
  },
  {
   "cell_type": "code",
   "execution_count": 12,
   "id": "955a6b36-48ce-4d7e-83e3-c26558a21eaf",
   "metadata": {},
   "outputs": [
    {
     "name": "stdout",
     "output_type": "stream",
     "text": [
      "50\n"
     ]
    },
    {
     "data": {
      "text/plain": [
       "['https://www.wowhead.com/sound=19404/vo-pcworgenfemale-erritemlocked',\n",
       " 'https://www.wowhead.com/sound=22452/worgenfemale-wound',\n",
       " 'https://www.wowhead.com/sound=19400/vo-pcworgenfemale-errinventoryfull',\n",
       " 'https://www.wowhead.com/sound=19423/vo-pcworgenfemale-errspellcooldown',\n",
       " 'https://www.wowhead.com/sound=19441/vo-pcworgenfemale-silly',\n",
       " 'https://www.wowhead.com/sound=22447/worgenfemale-battleroar',\n",
       " 'https://www.wowhead.com/sound=19385/vo-pcworgenfemale-errammoonly',\n",
       " 'https://www.wowhead.com/sound=19386/vo-pcworgenfemale-errbagfull',\n",
       " 'https://www.wowhead.com/sound=19388/vo-pcworgenfemale-errcantdropsoulbounditem',\n",
       " 'https://www.wowhead.com/sound=19389/vo-pcworgenfemale-errcantequipever']"
      ]
     },
     "execution_count": 12,
     "metadata": {},
     "output_type": "execute_result"
    }
   ],
   "source": [
    "links = driver.find_elements(By.CSS_SELECTOR, '#lv-sounds table tr>td:first-child a')\n",
    "playlist_urls = [link.get_attribute('href') for link in links]\n",
    "print(len(playlist_urls))\n",
    "playlist_urls[:10]"
   ]
  },
  {
   "cell_type": "code",
   "execution_count": 13,
   "id": "a86f038a-6d96-426a-ad24-3577ac29cf31",
   "metadata": {},
   "outputs": [
    {
     "data": {
      "text/plain": [
       "True"
      ]
     },
     "execution_count": 13,
     "metadata": {},
     "output_type": "execute_result"
    }
   ],
   "source": [
    "next_btn = driver.find_element(By.CSS_SELECTOR, '#lv-sounds .listview-nav').find_element(By.PARTIAL_LINK_TEXT, \"Next\")\n",
    "is_next_active = next_btn.get_attribute('data-active') == 'yes'\n",
    "is_next_active"
   ]
  },
  {
   "cell_type": "code",
   "execution_count": 16,
   "id": "dac27c24-f129-4837-8f38-4a6fda60ab5b",
   "metadata": {},
   "outputs": [
    {
     "data": {
      "text/plain": [
       "False"
      ]
     },
     "execution_count": 16,
     "metadata": {},
     "output_type": "execute_result"
    }
   ],
   "source": [
    "driver.execute_script(\"arguments[0].click();\", next_btn)\n",
    "is_next_active = next_btn.get_attribute('data-active') == 'yes'\n",
    "is_next_active"
   ]
  },
  {
   "cell_type": "code",
   "execution_count": 19,
   "id": "43558f97-a1a9-4335-a109-2bc68aaa9991",
   "metadata": {},
   "outputs": [],
   "source": [
    "driver.get(playlist_urls[1])"
   ]
  },
  {
   "cell_type": "code",
   "execution_count": 21,
   "id": "9dfc8eae-e54e-441e-82be-1ec4d045c5c0",
   "metadata": {},
   "outputs": [
    {
     "name": "stdout",
     "output_type": "stream",
     "text": [
      "10\n"
     ]
    },
    {
     "data": {
      "text/plain": [
       "['https://wow.zamimg.com/sound-ids/live/enus/182/564406/WorgenFemale_Wound_01.ogg',\n",
       " 'https://wow.zamimg.com/sound-ids/live/enus/216/564440/WorgenFemale_Wound_02.ogg',\n",
       " 'https://wow.zamimg.com/sound-ids/live/enus/166/564390/WorgenFemale_Wound_03.ogg',\n",
       " 'https://wow.zamimg.com/sound-ids/live/enus/204/564428/WorgenFemale_Wound_04.ogg',\n",
       " 'https://wow.zamimg.com/sound-ids/live/enus/214/564438/WorgenFemale_Wound_05.ogg',\n",
       " 'https://wow.zamimg.com/sound-ids/live/enus/155/564379/WorgenFemale_Wound_06.ogg',\n",
       " 'https://wow.zamimg.com/sound-ids/live/enus/151/564375/WorgenFemale_Wound_07.ogg',\n",
       " 'https://wow.zamimg.com/sound-ids/live/enus/167/564391/WorgenFemale_Wound_08.ogg',\n",
       " 'https://wow.zamimg.com/sound-ids/live/enus/178/564402/WorgenFemale_Wound_09.ogg',\n",
       " 'https://wow.zamimg.com/sound-ids/live/enus/174/564398/WorgenFemale_Wound_10.ogg']"
      ]
     },
     "execution_count": 21,
     "metadata": {},
     "output_type": "execute_result"
    }
   ],
   "source": [
    "links = driver.find_elements(By.CSS_SELECTOR, '#sound-file-list a')\n",
    "sound_urls = [link.get_attribute('href') for link in links]\n",
    "print(len(sound_urls))\n",
    "sound_urls"
   ]
  },
  {
   "cell_type": "code",
   "execution_count": 22,
   "id": "4af234bc-0bae-46e3-bfcd-e12f7494b4bb",
   "metadata": {},
   "outputs": [
    {
     "name": "stdout",
     "output_type": "stream",
     "text": [
      "Collecting aiohttp\n",
      "  Downloading aiohttp-3.8.4-cp38-cp38-win_amd64.whl (324 kB)\n",
      "     ---------------------------------------- 0.0/324.5 kB ? eta -:--:--\n",
      "     ---------- ----------------------------- 81.9/324.5 kB 2.3 MB/s eta 0:00:01\n",
      "     ------------------------------ --------- 245.8/324.5 kB 3.0 MB/s eta 0:00:01\n",
      "     ---------------------------------------- 324.5/324.5 kB 2.9 MB/s eta 0:00:00\n",
      "Collecting aiofile\n",
      "  Downloading aiofile-3.8.1.tar.gz (18 kB)\n",
      "  Preparing metadata (setup.py): started\n",
      "  Preparing metadata (setup.py): finished with status 'done'\n",
      "Requirement already satisfied: charset-normalizer<4.0,>=2.0 in c:\\users\\iambl\\github\\tts\\venv\\lib\\site-packages (from aiohttp) (3.0.1)\n",
      "Collecting aiosignal>=1.1.2\n",
      "  Downloading aiosignal-1.3.1-py3-none-any.whl (7.6 kB)\n",
      "Collecting yarl<2.0,>=1.0\n",
      "  Downloading yarl-1.8.2-cp38-cp38-win_amd64.whl (56 kB)\n",
      "     ---------------------------------------- 0.0/56.9 kB ? eta -:--:--\n",
      "     ---------------------------------------- 56.9/56.9 kB ? eta 0:00:00\n",
      "Collecting multidict<7.0,>=4.5\n",
      "  Downloading multidict-6.0.4-cp38-cp38-win_amd64.whl (28 kB)\n",
      "Collecting async-timeout<5.0,>=4.0.0a3\n",
      "  Downloading async_timeout-4.0.2-py3-none-any.whl (5.8 kB)\n",
      "Requirement already satisfied: attrs>=17.3.0 in c:\\users\\iambl\\github\\tts\\venv\\lib\\site-packages (from aiohttp) (22.2.0)\n",
      "Collecting frozenlist>=1.1.1\n",
      "  Downloading frozenlist-1.3.3-cp38-cp38-win_amd64.whl (34 kB)\n",
      "Collecting caio~=0.9.0\n",
      "  Downloading caio-0.9.11-py3-none-any.whl (19 kB)\n",
      "Requirement already satisfied: idna>=2.0 in c:\\users\\iambl\\github\\tts\\venv\\lib\\site-packages (from yarl<2.0,>=1.0->aiohttp) (3.4)\n",
      "Building wheels for collected packages: aiofile\n",
      "  Building wheel for aiofile (setup.py): started\n",
      "  Building wheel for aiofile (setup.py): finished with status 'done'\n",
      "  Created wheel for aiofile: filename=aiofile-3.8.1-py3-none-any.whl size=19501 sha256=1bfb596484d0cb5283a6a78e1171a8500ef78d548b90e4be8a38cfd2798bcb1c\n",
      "  Stored in directory: c:\\users\\iambl\\appdata\\local\\pip\\cache\\wheels\\1a\\8a\\cb\\64f9ddff5de83a58542726a9058913d0df84507b6e47d1f593\n",
      "Successfully built aiofile\n",
      "Installing collected packages: multidict, frozenlist, caio, async-timeout, yarl, aiosignal, aiofile, aiohttp\n",
      "Successfully installed aiofile-3.8.1 aiohttp-3.8.4 aiosignal-1.3.1 async-timeout-4.0.2 caio-0.9.11 frozenlist-1.3.3 multidict-6.0.4 yarl-1.8.2\n"
     ]
    }
   ],
   "source": [
    "!pip install aiohttp aiofile"
   ]
  },
  {
   "cell_type": "code",
   "execution_count": 26,
   "id": "de7a720f-d5ef-457a-be32-d2f37db4eed9",
   "metadata": {},
   "outputs": [
    {
     "data": {
      "text/plain": [
       "[None, None, None, None, None, None, None, None, None, None]"
      ]
     },
     "execution_count": 26,
     "metadata": {},
     "output_type": "execute_result"
    }
   ],
   "source": [
    "import os\n",
    "import asyncio\n",
    "import aiohttp\n",
    "import aiofile\n",
    "\n",
    "OUT_PATH = \"test_out\"\n",
    "os.makedirs(OUT_PATH, exist_ok=True)\n",
    "sema = asyncio.BoundedSemaphore(10)\n",
    "\n",
    "async def fetch_file(url):\n",
    "    fname = url.split(\"/\")[-1]\n",
    "    async with sema, aiohttp.ClientSession() as session:\n",
    "        async with session.get(url) as resp:\n",
    "            assert resp.status == 200\n",
    "            data = await resp.read()\n",
    "\n",
    "    async with aiofile.async_open(\n",
    "        os.path.join(OUT_PATH, fname), \"wb\"\n",
    "    ) as outfile:\n",
    "        await outfile.write(data)\n",
    "        \n",
    "await asyncio.gather(*[fetch_file(url) for url in sound_urls])"
   ]
  },
  {
   "cell_type": "code",
   "execution_count": 28,
   "id": "75f1dade-ba10-48a0-95ba-3e1c5073f013",
   "metadata": {},
   "outputs": [
    {
     "data": {
      "text/plain": [
       "<_WindowsSelectorEventLoop running=True closed=False debug=False>"
      ]
     },
     "execution_count": 28,
     "metadata": {},
     "output_type": "execute_result"
    }
   ],
   "source": [
    "asyncio.get_event_loop()"
   ]
  },
  {
   "cell_type": "code",
   "execution_count": 27,
   "id": "e3a30f6e-814f-4503-81ca-9be5ceeccf35",
   "metadata": {},
   "outputs": [],
   "source": [
    "driver.quit()"
   ]
  },
  {
   "cell_type": "code",
   "execution_count": 43,
   "id": "5da17823-7669-4db2-a979-e951ec665a8a",
   "metadata": {},
   "outputs": [
    {
     "name": "stdout",
     "output_type": "stream",
     "text": [
      "Hello\n"
     ]
    }
   ],
   "source": [
    "from threading import Thread\n",
    "\n",
    "async def g(x):\n",
    "    await asyncio.sleep(1)\n",
    "    print(x)\n",
    "\n",
    "def f(loop):\n",
    "    asyncio.run_coroutine_threadsafe(g(\"Hello\"), loop)\n",
    "\n",
    "t = Thread(target=f, args=(loop,))\n",
    "t.start() "
   ]
  },
  {
   "cell_type": "markdown",
   "id": "fc282652-5e1c-4a4c-b3f6-a1d2fa7f0a21",
   "metadata": {},
   "source": [
    "## Run Selenium Scraper"
   ]
  },
  {
   "cell_type": "code",
   "execution_count": 32,
   "id": "16142b21-a850-40b0-bae5-e61b2c8826fd",
   "metadata": {},
   "outputs": [],
   "source": [
    "from importlib import reload\n",
    "import pools.selenium\n",
    "reload(pools.selenium)\n",
    "from pools.selenium import DriverPool, WindowPool"
   ]
  },
  {
   "cell_type": "code",
   "execution_count": null,
   "id": "1d6264ae-b7e0-4be7-a319-2789fb910e1a",
   "metadata": {},
   "outputs": [],
   "source": [
    "from selenium import webdriver\n",
    "from selenium.webdriver.common.by import By\n",
    "\n",
    "OUT_PATH = \"raw_data\"\n",
    "os.makedirs(OUT_PATH, exist_ok=True)\n",
    "sema = asyncio.BoundedSemaphore(10)\n",
    "loop = asyncio.get_event_loop()\n",
    "\n",
    "async def fetch_file(url):\n",
    "    fname = url.split(\"/\")[-1]\n",
    "    async with sema, aiohttp.ClientSession() as session:\n",
    "        async with session.get(url) as resp:\n",
    "            assert resp.status == 200\n",
    "            data = await resp.read()\n",
    "\n",
    "    async with aiofile.async_open(\n",
    "        os.path.join(OUT_PATH, fname), \"wb\"\n",
    "    ) as outfile:\n",
    "        await outfile.write(data)\n",
    "\n",
    "def parse_searchPage(driver, pool):\n",
    "    next_btn = driver.find_element(By.CSS_SELECTOR, '#lv-sounds .listview-nav').find_element(By.PARTIAL_LINK_TEXT, \"Next\")\n",
    "    \n",
    "    while True:\n",
    "        links = driver.find_elements(By.CSS_SELECTOR, '#lv-sounds table tr>td:first-child a')\n",
    "        for link in links:\n",
    "            pool.scrape(link.get_attribute('href'), parse_playlistPage, pool)\n",
    "            \n",
    "        is_next_active = next_btn.get_attribute('data-active') == 'yes'\n",
    "        if not is_next_active:\n",
    "            break\n",
    "            \n",
    "        driver.execute_script(\"arguments[0].click();\", next_btn)\n",
    "    \n",
    "def parse_playlistPage(driver, pool):\n",
    "    links = driver.find_elements(By.CSS_SELECTOR, '#sound-file-list a')\n",
    "    sound_urls = [link.get_attribute('href') for link in links]\n",
    "    tasks = [fetch_file(url) for url in sound_urls]\n",
    "    for task in tasks:\n",
    "        loop.call_soon_threadsafe(asyncio.async, task)"
   ]
  },
  {
   "cell_type": "code",
   "execution_count": 46,
   "id": "9e376c0b-07cf-43ad-a641-96ea4e5133cf",
   "metadata": {
    "scrolled": true,
    "tags": []
   },
   "outputs": [
    {
     "name": "stdout",
     "output_type": "stream",
     "text": [
      "[22540] Initializing webdriver.\n",
      "[22540] Webdriver initialized.\n",
      "[22540] Loading URL: https://www.wowhead.com/sounds/name:WorgenFemale\n",
      "[22540] Finished loading.\n",
      "[5788] Initializing webdriver.\n",
      "[38580] Initializing webdriver.\n",
      "[36140] Initializing webdriver.\n",
      "[16140] Initializing webdriver.\n",
      "[22540] Loading URL: https://www.wowhead.com/sound=19404/vo-pcworgenfemale-erritemlocked\n",
      "[22540] Finished loading.\n",
      "[22540] Loading URL: https://www.wowhead.com/sound=22452/worgenfemale-wound\n",
      "[22540] Finished loading.\n",
      "[22540] Loading URL: https://www.wowhead.com/sound=19400/vo-pcworgenfemale-errinventoryfull\n",
      "[5788] Webdriver initialized.[38580] Webdriver initialized.\n",
      "[38580] Loading URL: https://www.wowhead.com/sound=19423/vo-pcworgenfemale-errspellcooldown\n",
      "\n",
      "[5788] Loading URL: https://www.wowhead.com/sound=19441/vo-pcworgenfemale-silly\n",
      "[16140] Webdriver initialized.\n",
      "[16140] Loading URL: https://www.wowhead.com/sound=22447/worgenfemale-battleroar\n",
      "[36140] Webdriver initialized.\n",
      "[36140] Loading URL: https://www.wowhead.com/sound=19385/vo-pcworgenfemale-errammoonly\n",
      "[22540] Finished loading.\n",
      "[22540] Loading URL: https://www.wowhead.com/sound=19386/vo-pcworgenfemale-errbagfull\n",
      "[22540] Finished loading.\n",
      "[22540] Loading URL: https://www.wowhead.com/sound=19388/vo-pcworgenfemale-errcantdropsoulbounditem\n",
      "[16140] Finished loading.\n",
      "[16140] Loading URL: https://www.wowhead.com/sound=19389/vo-pcworgenfemale-errcantequipever\n",
      "[36140] Finished loading.\n",
      "[36140] Loading URL: https://www.wowhead.com/sound=19392/vo-pcworgenfemale-errcantequipskill\n",
      "[22540] Finished loading.\n",
      "[22540] Loading URL: https://www.wowhead.com/sound=19393/vo-pcworgenfemale-errcantlearnspell\n",
      "[22540] Finished loading.\n",
      "[22540] Loading URL: https://www.wowhead.com/sound=19394/vo-pcworgenfemale-errcanttradesoulbounditem\n",
      "[5788] Finished loading.\n",
      "[5788] Loading URL: https://www.wowhead.com/sound=19396/vo-pcworgenfemale-errchestinuse\n",
      "[38580] Finished loading.\n",
      "[38580] Loading URL: https://www.wowhead.com/sound=19399/vo-pcworgenfemale-errinvalidattacktarget\n",
      "[16140] Finished loading.\n",
      "[16140] Loading URL: https://www.wowhead.com/sound=19406/vo-pcworgenfemale-erritemmaxcount\n",
      "[22540] Finished loading.\n",
      "[22540] Loading URL: https://www.wowhead.com/sound=19411/vo-pcworgenfemale-errmustequipitem\n",
      "[5788] Finished loading.\n",
      "[5788] Loading URL: https://www.wowhead.com/sound=19416/vo-pcworgenfemale-errnotabag\n",
      "[38580] Finished loading.\n",
      "[38580] Loading URL: https://www.wowhead.com/sound=19418/vo-pcworgenfemale-errnotequippable\n",
      "[36140] Finished loading.\n",
      "[36140] Loading URL: https://www.wowhead.com/sound=22448/worgenfemale-death\n",
      "[16140] Finished loading.\n",
      "[16140] Loading URL: https://www.wowhead.com/sound=19390/vo-pcworgenfemale-errcantequiplevel\n",
      "[22540] Finished loading.\n",
      "[22540] Loading URL: https://www.wowhead.com/sound=19395/vo-pcworgenfemale-errcantuseitem\n",
      "[5788] Finished loading.\n",
      "[5788] Loading URL: https://www.wowhead.com/sound=19409/vo-pcworgenfemale-errloottoofar\n",
      "[38580] Finished loading.\n",
      "[38580] Loading URL: https://www.wowhead.com/sound=19412/vo-pcworgenfemale-errnoammo\n",
      "[16140] Finished loading.[36140] Finished loading.\n",
      "\n",
      "[16140] Loading URL: https://www.wowhead.com/sound=19413/vo-pcworgenfemale-errnoenergy\n",
      "[36140] Loading URL: https://www.wowhead.com/sound=19415/vo-pcworgenfemale-errnorage\n",
      "[22540] Finished loading.\n",
      "[22540] Loading URL: https://www.wowhead.com/sound=19417/vo-pcworgenfemale-errnotenoughmoney\n",
      "[38580] Finished loading.\n",
      "[38580] Loading URL: https://www.wowhead.com/sound=19420/vo-pcworgenfemale-errpartyfull\n",
      "[16140] Finished loading.\n",
      "[16140] Loading URL: https://www.wowhead.com/sound=19422/vo-pcworgenfemale-errpotioncooldown\n",
      "[5788] Finished loading.\n",
      "[5788] Loading URL: https://www.wowhead.com/sound=74682/vo-worgenfemale-foralliance-01\n",
      "[22540] Finished loading.\n",
      "[22540] Loading URL: https://www.wowhead.com/sound=67886/vo-worgenfemale-sorry-01\n",
      "[36140] Finished loading.\n",
      "[36140] Loading URL: https://www.wowhead.com/sound=22449/worgenfemale-emoteroar\n",
      "[38580] Finished loading.\n",
      "[38580] Loading URL: https://www.wowhead.com/sound=22451/worgenfemale-preaggro\n",
      "[16140] Finished loading.\n",
      "[16140] Loading URL: https://www.wowhead.com/sound=19373/vo-pcworgenfemale-charge\n",
      "[5788] Finished loading.\n",
      "[5788] Loading URL: https://www.wowhead.com/sound=19387/vo-pcworgenfemale-errcantcreatehere\n",
      "[22540] Finished loading.\n",
      "[22540] Loading URL: https://www.wowhead.com/sound=19398/vo-pcworgenfemale-errguildpermissions\n",
      "[36140] Finished loading.\n",
      "[36140] Loading URL: https://www.wowhead.com/sound=19414/vo-pcworgenfemale-errnomana\n",
      "[38580] Finished loading.\n",
      "[38580] Loading URL: https://www.wowhead.com/sound=19419/vo-pcworgenfemale-erroutofrange\n",
      "[22540] Finished loading.\n",
      "[16140] Finished loading.\n",
      "[22540] Loading URL: https://www.wowhead.com/sound=19437/vo-pcworgenfemale-no\n",
      "[16140] Loading URL: https://www.wowhead.com/sound=74684/vo-worgenfemale-charge\n",
      "[5788] Finished loading.\n",
      "[5788] Loading URL: https://www.wowhead.com/sound=22445/worgenfemale-attack\n",
      "[22540] Finished loading.\n",
      "[22540] Loading URL: https://www.wowhead.com/sound=19366/vo-pcworgenfemale-attackmytarget\n",
      "[38580] Finished loading.\n",
      "[38580] Loading URL: https://www.wowhead.com/sound=19517/vo-pcworgenfemale-cheer\n",
      "[36140] Finished loading.\n",
      "[36140] Loading URL: https://www.wowhead.com/sound=23322/vo-pcworgenfemale-chicken\n",
      "[16140] Finished loading.\n",
      "[16140] Loading URL: https://www.wowhead.com/sound=19379/vo-pcworgenfemale-err2hequipped\n",
      "[38580] Finished loading.\n",
      "[38580] Loading URL: https://www.wowhead.com/sound=19381/vo-pcworgenfemale-err2hskillnotfound\n",
      "[5788] Finished loading.\n",
      "[5788] Loading URL: https://www.wowhead.com/sound=19382/vo-pcworgenfemale-errabilitycooldown\n",
      "[22540] Finished loading.[16140] Finished loading.\n",
      "\n",
      "[16140] Loading URL: https://www.wowhead.com/sound=19383/vo-pcworgenfemale-erralreadyingroup\n",
      "[22540] Loading URL: https://www.wowhead.com/sound=19407/vo-pcworgenfemale-errlootdidntkill\n",
      "[38580] Finished loading.\n",
      "[38580] Loading URL: https://www.wowhead.com/sound=19428/vo-pcworgenfemale-flirt\n",
      "[16140] Finished loading.\n",
      "[16140] Loading URL: https://www.wowhead.com/sound=19429/vo-pcworgenfemale-followme\n",
      "[22540] Finished loading.\n",
      "[22540] Loading URL: https://www.wowhead.com/sound=19431/vo-pcworgenfemale-goodbye\n",
      "[38580] Finished loading.\n",
      "[38580] Loading URL: https://www.wowhead.com/sound=19433/vo-pcworgenfemale-healme\n",
      "[5788] Finished loading.\n",
      "[5788] Loading URL: https://www.wowhead.com/sound=19434/vo-pcworgenfemale-hello\n",
      "[36140] Finished loading.\n",
      "[36140] Loading URL: https://www.wowhead.com/sound=19435/vo-pcworgenfemale-help\n",
      "[16140] Finished loading.\n",
      "[16140] Loading URL: https://www.wowhead.com/sound=19439/vo-pcworgenfemale-openfire\n",
      "[22540] Finished loading.\n",
      "[22540] Loading URL: https://www.wowhead.com/sound=19440/vo-pcworgenfemale-outofmana\n",
      "[36140] Finished loading.\n",
      "[36140] Loading URL: https://www.wowhead.com/sound=19443/vo-pcworgenfemale-thankyou\n",
      "[38580] Finished loading.\n",
      "[38580] Loading URL: https://www.wowhead.com/sound=23318/vo-pcworgenfemale-train-1\n",
      "[16140] Finished loading.\n",
      "[16140] Loading URL: https://www.wowhead.com/sound=19446/vo-pcworgenfemale-waithere\n",
      "[22540] Finished loading.\n",
      "[22540] Loading URL: https://www.wowhead.com/sound=19448/vo-pcworgenfemale-yes\n",
      "[5788] Finished loading.\n",
      "[5788] Loading URL: https://www.wowhead.com/sound=67885/vo-worgenfemale-oops-01\n",
      "[38580] Finished loading.\n",
      "[38580] Loading URL: https://www.wowhead.com/sound=67887/vo-worgenfemale-taunt-01\n",
      "[16140] Finished loading.\n",
      "[36140] Finished loading.\n",
      "[16140] Loading URL: https://www.wowhead.com/sound=67888/vo-worgenfemale-threaten-01\n",
      "[36140] Loading URL: https://www.wowhead.com/sound=67889/vo-worgenfemale-whoa-01\n",
      "[22540] Finished loading.\n",
      "[22540] Loading URL: https://www.wowhead.com/sound=22444/worgenfemale-aggro\n",
      "[5788] Finished loading.\n",
      "[5788] Loading URL: https://www.wowhead.com/sound=23768/worgenfemale-mountspecial\n",
      "[38580] Finished loading.\n",
      "[38580] Loading URL: https://www.wowhead.com/sound=19402/vo-pcworgenfemale-erritemcooldown\n",
      "[36140] Finished loading.\n",
      "[36140] Loading URL: https://www.wowhead.com/sound=19426/vo-pcworgenfemale-flee\n",
      "[16140] Finished loading.\n",
      "[16140] Loading URL: https://www.wowhead.com/sound=23320/vo-pcworgenfemale-kiss\n",
      "[5788] Finished loading.\n",
      "[5788] Loading URL: https://www.wowhead.com/sound=19445/vo-pcworgenfemale-train\n",
      "[36140] Finished loading.\n",
      "[36140] Loading URL: https://www.wowhead.com/sound=22446/worgenfemale-attackcrit\n",
      "[22540] Finished loading.\n",
      "[38580] Finished loading.\n",
      "[38580] Loading URL: https://www.wowhead.com/sound=145268/worgenfemale-battleroar-01\n",
      "[22540] Loading URL: https://www.wowhead.com/sound=175333/worgenfemale-emotesniff-01\n",
      "[5788] Finished loading.\n",
      "[5788] Loading URL: https://www.wowhead.com/sound=213442/worgenfemale-emotesniff-02\n",
      "[16140] Finished loading.\n",
      "[16140] Loading URL: https://www.wowhead.com/sound=19378/vo-pcworgenfemale-congratulations\n",
      "[5788] Finished loading.\n",
      "[5788] Loading URL: https://www.wowhead.com/sound=23321/vo-pcworgenfemale-cry\n",
      "[36140] Finished loading.\n",
      "[22540] Finished loading.\n",
      "[22540] Loading URL: https://www.wowhead.com/sound=19516/vo-pcworgenfemale-incomingdanger\n",
      "[36140] Loading URL: https://www.wowhead.com/sound=23319/vo-pcworgenfemale-laugh\n",
      "[38580] Finished loading.\n",
      "[38580] Loading URL: https://www.wowhead.com/sound=19438/vo-pcworgenfemale-nod\n",
      "[16140] Finished loading.\n",
      "[16140] Loading URL: https://www.wowhead.com/sound=26568/vo-pcworgenfemale-raspberry\n",
      "[36140] Finished loading.\n",
      "[36140] Loading URL: https://www.wowhead.com/sound=19450/vo-pcworgenfemale-yourewelcome\n",
      "[5788] Finished loading.\n",
      "[22540] Finished loading.\n",
      "[5788] Loading URL: https://www.wowhead.com/sound=74683/vo-worgenfemale-battleshoutlarge\n",
      "[22540] Loading URL: https://www.wowhead.com/sound=74685/vo-worgenfemale-meleewindup\n",
      "[16140] Finished loading.\n",
      "[16140] Loading URL: https://www.wowhead.com/sound=148132/worgenfemale-battleroar-01\n",
      "[38580] Finished loading.\n",
      "[38580] Loading URL: https://www.wowhead.com/sound=22450/worgenfemale-emotesniff\n",
      "[16140] Finished loading.\n",
      "[16140] Loading URL: https://www.wowhead.com/sound=210017/worgenfemale-emotesniff-02\n",
      "[5788] Finished loading.\n",
      "[22540] Finished loading.\n",
      "[5788] Loading URL: https://www.wowhead.com/sound=210182/worgenfemale-emotesniff-02\n",
      "[22540] Loading URL: https://www.wowhead.com/sound=210154/worgenfemale-emotesniff-02\n",
      "[38580] Finished loading.\n",
      "[38580] Loading URL: https://www.wowhead.com/sound=22453/worgenfemale-woundcrit\n",
      "[22540] Finished loading.\n",
      "[22540] Loading URL: https://www.wowhead.com/sound=19397/vo-pcworgenfemale-errgenericnotarget\n",
      "[5788] Finished loading.\n",
      "[36140] Finished loading.\n",
      "[16140] Finished loading.\n",
      "[22540] Finished loading.\n",
      "[38580] Finished loading.\n",
      "[38580] Shutting down webdriver.[5788] Shutting down webdriver.\n",
      "[36140] Shutting down webdriver.\n",
      "[22540] Shutting down webdriver.\n",
      "[16140] Shutting down webdriver.\n",
      "\n",
      "[16140] Webdriver shut down.[38580] Webdriver shut down.\n",
      "\n",
      "[22540] Webdriver shut down.\n",
      "[5788] Webdriver shut down.\n",
      "[36140] Webdriver shut down.\n"
     ]
    },
    {
     "ename": "ValueError",
     "evalue": "list.remove(x): x not in list",
     "output_type": "error",
     "traceback": [
      "\u001b[1;31m---------------------------------------------------------------------------\u001b[0m",
      "\u001b[1;31mValueError\u001b[0m                                Traceback (most recent call last)",
      "Cell \u001b[1;32mIn[46], line 4\u001b[0m\n\u001b[0;32m      1\u001b[0m url \u001b[38;5;241m=\u001b[39m \u001b[38;5;124m\"\u001b[39m\u001b[38;5;124mhttps://www.wowhead.com/sounds/name:WorgenFemale\u001b[39m\u001b[38;5;124m\"\u001b[39m\n\u001b[0;32m      3\u001b[0m \u001b[38;5;28;01mwith\u001b[39;00m DriverPool(\u001b[38;5;241m5\u001b[39m, headless\u001b[38;5;241m=\u001b[39m\u001b[38;5;28;01mTrue\u001b[39;00m) \u001b[38;5;28;01mas\u001b[39;00m pool:\n\u001b[1;32m----> 4\u001b[0m     pool\u001b[38;5;241m.\u001b[39mscrape(url, parse_searchPage, pool)\n",
      "File \u001b[1;32m~\\GitHub\\TTS\\notebooks\\worgen\\pools\\selenium.py:25\u001b[0m, in \u001b[0;36mDriverPool.__exit__\u001b[1;34m(self, type, value, traceback)\u001b[0m\n\u001b[0;32m     24\u001b[0m \u001b[38;5;28;01mdef\u001b[39;00m \u001b[38;5;21m__exit__\u001b[39m(\u001b[38;5;28mself\u001b[39m, \u001b[38;5;28mtype\u001b[39m, value, traceback):\n\u001b[1;32m---> 25\u001b[0m     \u001b[38;5;28;43mself\u001b[39;49m\u001b[38;5;241;43m.\u001b[39;49m\u001b[43mshutdown\u001b[49m\u001b[43m(\u001b[49m\u001b[43m)\u001b[49m\n",
      "File \u001b[1;32m~\\GitHub\\TTS\\notebooks\\worgen\\pools\\selenium.py:78\u001b[0m, in \u001b[0;36mDriverPool.shutdown\u001b[1;34m(self)\u001b[0m\n\u001b[0;32m     76\u001b[0m \u001b[38;5;28;01mdef\u001b[39;00m \u001b[38;5;21mshutdown\u001b[39m(\u001b[38;5;28mself\u001b[39m):\n\u001b[0;32m     77\u001b[0m     \u001b[38;5;28;01mtry\u001b[39;00m:\n\u001b[1;32m---> 78\u001b[0m         \u001b[38;5;28;43mself\u001b[39;49m\u001b[38;5;241;43m.\u001b[39;49m\u001b[43mwait\u001b[49m\u001b[43m(\u001b[49m\u001b[43m)\u001b[49m\n\u001b[0;32m     79\u001b[0m     \u001b[38;5;28;01mfinally\u001b[39;00m:\n\u001b[0;32m     80\u001b[0m         \u001b[38;5;28mself\u001b[39m\u001b[38;5;241m.\u001b[39mwait()\n",
      "File \u001b[1;32m~\\GitHub\\TTS\\notebooks\\worgen\\pools\\selenium.py:70\u001b[0m, in \u001b[0;36mDriverPool.wait\u001b[1;34m(self)\u001b[0m\n\u001b[0;32m     69\u001b[0m \u001b[38;5;28;01mdef\u001b[39;00m \u001b[38;5;21mwait\u001b[39m(\u001b[38;5;28mself\u001b[39m):\n\u001b[1;32m---> 70\u001b[0m     \u001b[43mfutures\u001b[49m\u001b[38;5;241;43m.\u001b[39;49m\u001b[43mwait\u001b[49m\u001b[43m(\u001b[49m\u001b[38;5;28;43mself\u001b[39;49m\u001b[38;5;241;43m.\u001b[39;49m\u001b[43mtasks\u001b[49m\u001b[43m)\u001b[49m\n",
      "File \u001b[1;32m~\\AppData\\Local\\Programs\\Python\\Python38\\lib\\concurrent\\futures\\_base.py:308\u001b[0m, in \u001b[0;36mwait\u001b[1;34m(fs, timeout, return_when)\u001b[0m\n\u001b[0;32m    306\u001b[0m \u001b[38;5;28;01mfor\u001b[39;00m f \u001b[38;5;129;01min\u001b[39;00m fs:\n\u001b[0;32m    307\u001b[0m     \u001b[38;5;28;01mwith\u001b[39;00m f\u001b[38;5;241m.\u001b[39m_condition:\n\u001b[1;32m--> 308\u001b[0m         \u001b[43mf\u001b[49m\u001b[38;5;241;43m.\u001b[39;49m\u001b[43m_waiters\u001b[49m\u001b[38;5;241;43m.\u001b[39;49m\u001b[43mremove\u001b[49m\u001b[43m(\u001b[49m\u001b[43mwaiter\u001b[49m\u001b[43m)\u001b[49m\n\u001b[0;32m    310\u001b[0m done\u001b[38;5;241m.\u001b[39mupdate(waiter\u001b[38;5;241m.\u001b[39mfinished_futures)\n\u001b[0;32m    311\u001b[0m \u001b[38;5;28;01mreturn\u001b[39;00m DoneAndNotDoneFutures(done, \u001b[38;5;28mset\u001b[39m(fs) \u001b[38;5;241m-\u001b[39m done)\n",
      "\u001b[1;31mValueError\u001b[0m: list.remove(x): x not in list"
     ]
    }
   ],
   "source": [
    "url = \"https://www.wowhead.com/sounds/name:WorgenFemale\"\n",
    "\n",
    "with DriverPool(5, headless=True) as pool:\n",
    "    pool.scrape(url, parse_searchPage, pool)"
   ]
  }
 ],
 "metadata": {
  "kernelspec": {
   "display_name": "ttp",
   "language": "python",
   "name": "ttp"
  },
  "language_info": {
   "codemirror_mode": {
    "name": "ipython",
    "version": 3
   },
   "file_extension": ".py",
   "mimetype": "text/x-python",
   "name": "python",
   "nbconvert_exporter": "python",
   "pygments_lexer": "ipython3",
   "version": "3.8.10"
  }
 },
 "nbformat": 4,
 "nbformat_minor": 5
}
