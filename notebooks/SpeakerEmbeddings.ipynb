{
 "cells": [
  {
   "cell_type": "code",
   "execution_count": 1,
   "id": "ba101893-3af8-43f4-bb88-faf9c095b6a5",
   "metadata": {},
   "outputs": [],
   "source": [
    "import os\n",
    "\n",
    "MODEL_BASE_PATH = r\"C:\\Users\\iambl\\GitHub\\TTS\\recipes\\vctk\\yourtts\\WorgenVCTK\"\n",
    "model_path = os.path.join(MODEL_BASE_PATH, 'model_file.pth')\n",
    "config_path = os.path.join(MODEL_BASE_PATH, 'config.json')\n",
    "speakers_file_path = r\"C:\\Users\\iambl\\GitHub\\TTS\\recipes\\vctk\\yourtts\\VCTK\\speakers.pth\"\n",
    "language_ids_file_path = os.path.join(MODEL_BASE_PATH, 'language_ids.json')"
   ]
  },
  {
   "cell_type": "code",
   "execution_count": 6,
   "id": "857da58d-a2b8-4672-8022-14691996e6b4",
   "metadata": {},
   "outputs": [
    {
     "name": "stdout",
     "output_type": "stream",
     "text": [
      " > Using model: vits\n",
      " > Setting up Audio Processor...\n",
      " | > sample_rate:16000\n",
      " | > resample:False\n",
      " | > num_mels:80\n",
      " | > log_func:np.log10\n",
      " | > min_level_db:0\n",
      " | > frame_shift_ms:None\n",
      " | > frame_length_ms:None\n",
      " | > ref_level_db:None\n",
      " | > fft_size:1024\n",
      " | > power:None\n",
      " | > preemphasis:0.0\n",
      " | > griffin_lim_iters:None\n",
      " | > signal_norm:None\n",
      " | > symmetric_norm:None\n",
      " | > mel_fmin:0\n",
      " | > mel_fmax:None\n",
      " | > pitch_fmin:None\n",
      " | > pitch_fmax:None\n",
      " | > spec_gain:20.0\n",
      " | > stft_pad_mode:reflect\n",
      " | > max_norm:1.0\n",
      " | > clip_norm:True\n",
      " | > do_trim_silence:False\n",
      " | > trim_db:60\n",
      " | > do_sound_norm:False\n",
      " | > do_amp_to_db_linear:True\n",
      " | > do_amp_to_db_mel:True\n",
      " | > do_rms_norm:False\n",
      " | > db_level:None\n",
      " | > stats_path:None\n",
      " | > base:10\n",
      " | > hop_length:256\n",
      " | > win_length:1024\n",
      "VitsConfig(output_path='../checkpoints/VITS-multilingual/VITS_fixes/new/new-SE/use_noise_aument_false/xlarge-ZS-PT-VCTK/pt-en+LibriTTS-fr/speaker_encoder_as_loss_9_alpha/mixed-p-false-bug-SDP-fixed/', logger_uri=None, run_name='vits_tts-portuguese', project_name=None, run_description='', print_step=25, plot_step=100, model_param_stats=False, wandb_entity=None, dashboard_logger='tensorboard', log_model_step=10000, save_step=10000, save_n_checkpoints=5, save_checkpoints=True, save_all_best=False, save_best_after=10000, target_loss=None, print_eval=True, test_delay_epochs=-1, run_eval=True, run_eval_steps=None, distributed_backend='nccl', distributed_url='tcp://localhost:54321', mixed_precision=False, epochs=1000, batch_size=52, eval_batch_size=52, grad_clip=[5.0, 5.0], scheduler_after_epoch=True, lr=0.001, optimizer='AdamW', optimizer_params={'betas': [0.8, 0.99], 'eps': 1e-09, 'weight_decay': 0.01}, lr_scheduler='', lr_scheduler_params=None, use_grad_scaler=False, cudnn_enable=True, cudnn_deterministic=False, cudnn_benchmark=True, training_seed=54321, model='vits', num_loader_workers=4, num_eval_loader_workers=4, use_noise_augment=False, audio=VitsAudioConfig(fft_size=1024, sample_rate=16000, win_length=1024, hop_length=256, num_mels=80, mel_fmin=0, mel_fmax=None), use_phonemes=False, phonemizer=None, phoneme_language='pt-br', compute_input_seq_cache=False, text_cleaner='multilingual_cleaners', enable_eos_bos_chars=False, test_sentences_file='', phoneme_cache_path=None, characters=CharactersConfig(characters_class='TTS.tts.models.vits.VitsCharacters', vocab_dict=None, pad='_', eos='&', bos='*', blank=None, characters=\"ABCDEFGHIJKLMNOPQRSTUVWXYZabcdefghijklmnopqrstuvwxyz¯·ßàáâãäæçèéêëìíîïñòóôõöùúûüÿāąćēęěīıłńōőœśūűźżǎǐǒǔабвгдежзийклмнопрстуфхцчшщъыьэюяёєіїґ–!'(),-.:;? \", punctuations=\"!'(),-.:;? \", phonemes='', is_unique=True, is_sorted=True), add_blank=True, batch_group_size=0, loss_masking=None, min_audio_len=1, max_audio_len=inf, min_text_len=1, max_text_len=inf, compute_f0=False, compute_linear_spec=True, precompute_num_workers=0, start_by_longest=False, shuffle=False, drop_last=False, datasets=[BaseDatasetConfig(formatter='', dataset_name='', path='../../datasets/VCTK-Corpus-removed-silence_16Khz/', meta_file_train=None, ignored_speakers=None, language='en', meta_file_val=None, meta_file_attn_mask=''), BaseDatasetConfig(formatter='', dataset_name='', path='../../datasets/LibriTTS/LibriTTS/dataset-preprocessed-clean-100-and-360/dataset-22k/', meta_file_train='metadata_all.csv', ignored_speakers=None, language='en', meta_file_val='dev-clean_500.csv', meta_file_attn_mask=''), BaseDatasetConfig(formatter='', dataset_name='', path='../../datasets/TTS-Portuguese-Corpus_16khz/', meta_file_train='train_TTS-Portuguese_Corpus_metadata.csv', ignored_speakers=None, language='pt-br', meta_file_val='eval_TTS-Portuguese_Corpus_metadata.csv', meta_file_attn_mask=''), BaseDatasetConfig(formatter='', dataset_name='', path='../../datasets/M-AILABS/fr_FR', meta_file_train='', ignored_speakers=None, language='fr-fr', meta_file_val=None, meta_file_attn_mask=None)], test_sentences=[[\"It took me quite a long time to develop a voice, and now that I have it I'm not going to be silent.\", 'VCTK_p225', None, 'en'], [\"It took me quite a long time to develop a voice, and now that I have it I'm not going to be silent.\", 'ED', None, 'en'], [\"It took me quite a long time to develop a voice, and now that I have it I'm not going to be silent.\", 'bernard', None, 'en'], [\"This cake is great. It's so delicious and moist.\", 'VCTK_p234', None, 'en'], [\"This cake is great. It's so delicious and moist.\", 'ED', None, 'en'], [\"This cake is great. It's so delicious and moist.\", 'ezwa', None, 'en'], ['Hoje é fundamental encontrar a razão da existência humana.', 'ED', None, 'pt-br'], ['Hoje é fundamental encontrar a razão da existência humana.', 'VCTK_p238', None, 'pt-br'], ['Hoje é fundamental encontrar a razão da existência humana.', 'gilles_g_le_blanc', None, 'pt-br'], ['Em muitas cidades a população está diminuindo.', 'ED', None, 'pt-br'], ['Em muitas cidades a população está diminuindo.', 'VCTK_p245', None, 'pt-br'], ['Em muitas cidades a população está diminuindo.', 'nadine_eckert_boulet', None, 'pt-br'], [\"Il m'a fallu beaucoup de temps pour développer une voix, et maintenant que je l'ai, je ne vais pas me taire.\", 'VCTK_p245', None, 'fr-fr'], [\"Il m'a fallu beaucoup de temps pour développer une voix, et maintenant que je l'ai, je ne vais pas me taire.\", 'ED', None, 'fr-fr'], [\"Il m'a fallu beaucoup de temps pour développer une voix, et maintenant que je l'ai, je ne vais pas me taire.\", 'ezwa', None, 'fr-fr'], [\"Il m'a fallu beaucoup de temps pour développer une voix, et maintenant que je l'ai, je ne vais pas me taire.\", 'bernard', None, 'fr-fr'], [\"Il m'a fallu beaucoup de temps pour développer une voix, et maintenant que je l'ai, je ne vais pas me taire.\", 'gilles_g_le_blanc', None, 'fr-fr'], [\"Il m'a fallu beaucoup de temps pour développer une voix, et maintenant que je l'ai, je ne vais pas me taire.\", 'nadine_eckert_boulet', None, 'fr-fr'], [\"Il m'a fallu beaucoup de temps pour développer une voix, et maintenant que je l'ai, je ne vais pas me taire.\", 'zeckou', None, 'fr-fr']], eval_split_max_size=None, eval_split_size=0.01, use_speaker_weighted_sampler=False, speaker_weighted_sampler_alpha=1.0, use_language_weighted_sampler=True, language_weighted_sampler_alpha=1.0, use_length_weighted_sampler=False, length_weighted_sampler_alpha=1.0, model_args=VitsArgs(num_chars=165, out_channels=513, spec_segment_size=62, hidden_channels=192, hidden_channels_ffn_text_encoder=768, num_heads_text_encoder=2, num_layers_text_encoder=10, kernel_size_text_encoder=3, dropout_p_text_encoder=0.1, dropout_p_duration_predictor=0.5, kernel_size_posterior_encoder=5, dilation_rate_posterior_encoder=1, num_layers_posterior_encoder=16, kernel_size_flow=5, dilation_rate_flow=1, num_layers_flow=4, resblock_type_decoder='2', resblock_kernel_sizes_decoder=[3, 7, 11], resblock_dilation_sizes_decoder=[[1, 3, 5], [1, 3, 5], [1, 3, 5]], upsample_rates_decoder=[8, 8, 2, 2], upsample_initial_channel_decoder=512, upsample_kernel_sizes_decoder=[16, 16, 4, 4], periods_multi_period_discriminator=[2, 3, 5, 7, 11], use_sdp=True, noise_scale=1.0, inference_noise_scale=0.3, length_scale=1.5, noise_scale_dp=0.6, inference_noise_scale_dp=0.3, max_inference_len=None, init_discriminator=True, use_spectral_norm_disriminator=False, use_speaker_embedding=False, num_speakers=1244, speakers_file=None, d_vector_file='C:\\\\Users\\\\iambl\\\\AppData\\\\Local\\\\tts\\\\tts_models--multilingual--multi-dataset--your_tts\\\\speakers.json', speaker_embedding_channels=512, use_d_vector_file=True, d_vector_dim=512, detach_dp_input=True, use_language_embedding=True, embedded_language_dim=4, num_languages=3, language_ids_file=None, use_speaker_encoder_as_loss=True, speaker_encoder_config_path='C:\\\\Users\\\\iambl\\\\AppData\\\\Local\\\\tts\\\\tts_models--multilingual--multi-dataset--your_tts\\\\config_se.json', speaker_encoder_model_path='C:\\\\Users\\\\iambl\\\\AppData\\\\Local\\\\tts\\\\tts_models--multilingual--multi-dataset--your_tts\\\\model_se.pth', condition_dp_on_speaker=True, freeze_encoder=False, freeze_DP=False, freeze_PE=False, freeze_flow_decoder=False, freeze_waveform_decoder=False, encoder_sample_rate=None, interpolate_z=True, reinit_DP=False, reinit_text_encoder=False), lr_gen=0.0002, lr_disc=0.0002, lr_scheduler_gen='ExponentialLR', lr_scheduler_gen_params={'gamma': 0.999875, 'last_epoch': -1}, lr_scheduler_disc='ExponentialLR', lr_scheduler_disc_params={'gamma': 0.999875, 'last_epoch': -1}, kl_loss_alpha=1.0, disc_loss_alpha=1.0, gen_loss_alpha=1.0, feat_loss_alpha=1.0, mel_loss_alpha=45.0, dur_loss_alpha=1.0, speaker_encoder_loss_alpha=9.0, return_wav=True, use_weighted_sampler=False, weighted_sampler_attrs={}, weighted_sampler_multipliers={}, r=1, num_speakers=0, use_speaker_embedding=False, speakers_file=None, speaker_embedding_channels=256, language_ids_file=None, use_language_embedding=False, use_d_vector_file=True, d_vector_file='C:\\\\Users\\\\iambl\\\\AppData\\\\Local\\\\tts\\\\tts_models--multilingual--multi-dataset--your_tts\\\\speakers.json', d_vector_dim=512)\n",
      "C:\\Users\\iambl\\AppData\\Local\\tts\\tts_models--multilingual--multi-dataset--your_tts\\speakers.json\n",
      "!\n",
      " > Model fully restored. \n",
      " > Setting up Audio Processor...\n",
      " | > sample_rate:16000\n",
      " | > resample:False\n",
      " | > num_mels:64\n",
      " | > log_func:np.log10\n",
      " | > min_level_db:-100\n",
      " | > frame_shift_ms:None\n",
      " | > frame_length_ms:None\n",
      " | > ref_level_db:20\n",
      " | > fft_size:512\n",
      " | > power:1.5\n",
      " | > preemphasis:0.97\n",
      " | > griffin_lim_iters:60\n",
      " | > signal_norm:False\n",
      " | > symmetric_norm:False\n",
      " | > mel_fmin:0\n",
      " | > mel_fmax:8000.0\n",
      " | > pitch_fmin:1.0\n",
      " | > pitch_fmax:640.0\n",
      " | > spec_gain:20.0\n",
      " | > stft_pad_mode:reflect\n",
      " | > max_norm:4.0\n",
      " | > clip_norm:False\n",
      " | > do_trim_silence:False\n",
      " | > trim_db:60\n",
      " | > do_sound_norm:False\n",
      " | > do_amp_to_db_linear:True\n",
      " | > do_amp_to_db_mel:True\n",
      " | > do_rms_norm:True\n",
      " | > db_level:-27.0\n",
      " | > stats_path:None\n",
      " | > base:10\n",
      " | > hop_length:160\n",
      " | > win_length:400\n",
      " > External Speaker Encoder Loaded !!\n",
      " > initialization of language-embedding layers.\n",
      " > Model fully restored. \n",
      " > Setting up Audio Processor...\n",
      " | > sample_rate:16000\n",
      " | > resample:False\n",
      " | > num_mels:64\n",
      " | > log_func:np.log10\n",
      " | > min_level_db:-100\n",
      " | > frame_shift_ms:None\n",
      " | > frame_length_ms:None\n",
      " | > ref_level_db:20\n",
      " | > fft_size:512\n",
      " | > power:1.5\n",
      " | > preemphasis:0.97\n",
      " | > griffin_lim_iters:60\n",
      " | > signal_norm:False\n",
      " | > symmetric_norm:False\n",
      " | > mel_fmin:0\n",
      " | > mel_fmax:8000.0\n",
      " | > pitch_fmin:1.0\n",
      " | > pitch_fmax:640.0\n",
      " | > spec_gain:20.0\n",
      " | > stft_pad_mode:reflect\n",
      " | > max_norm:4.0\n",
      " | > clip_norm:False\n",
      " | > do_trim_silence:False\n",
      " | > trim_db:60\n",
      " | > do_sound_norm:False\n",
      " | > do_amp_to_db_linear:True\n",
      " | > do_amp_to_db_mel:True\n",
      " | > do_rms_norm:True\n",
      " | > db_level:-27.0\n",
      " | > stats_path:None\n",
      " | > base:10\n",
      " | > hop_length:160\n",
      " | > win_length:400\n"
     ]
    }
   ],
   "source": [
    "from TTS.utils.synthesizer import Synthesizer\n",
    "\n",
    "synthesizer = Synthesizer(\n",
    "    model_path,\n",
    "    config_path,\n",
    "    speakers_file_path,\n",
    "    language_ids_file_path,\n",
    "    use_cuda=True,\n",
    ")"
   ]
  },
  {
   "cell_type": "code",
   "execution_count": 7,
   "id": "5ed87f63-282a-4a7e-b26e-f952cb3aac6d",
   "metadata": {},
   "outputs": [
    {
     "data": {
      "text/plain": [
       "{'female-en-5': 0,\n",
       " 'female-en-5\\n': 1,\n",
       " 'female-pt-4\\n': 2,\n",
       " 'male-en-2': 3,\n",
       " 'male-en-2\\n': 4,\n",
       " 'male-pt-3\\n': 5}"
      ]
     },
     "execution_count": 7,
     "metadata": {},
     "output_type": "execute_result"
    }
   ],
   "source": [
    "synthesizer.tts_model.speaker_manager.name_to_id"
   ]
  },
  {
   "cell_type": "code",
   "execution_count": 8,
   "id": "91f6caad-477c-43d4-9dfa-4082fd3a5536",
   "metadata": {},
   "outputs": [],
   "source": [
    "synthesizer.tts_model.speaker_manager.load_embeddings_from_file(speakers_file_path)"
   ]
  },
  {
   "cell_type": "code",
   "execution_count": 11,
   "id": "654eacd6-e725-4602-b6c5-7bab0fc54a1f",
   "metadata": {},
   "outputs": [],
   "source": [
    "synthesizer.tts_model.speaker_manager.save_embeddings_to_file(os.path.join(MODEL_BASE_PATH, 'speakers.json'))"
   ]
  }
 ],
 "metadata": {
  "kernelspec": {
   "display_name": "ttp",
   "language": "python",
   "name": "ttp"
  },
  "language_info": {
   "codemirror_mode": {
    "name": "ipython",
    "version": 3
   },
   "file_extension": ".py",
   "mimetype": "text/x-python",
   "name": "python",
   "nbconvert_exporter": "python",
   "pygments_lexer": "ipython3",
   "version": "3.8.10"
  }
 },
 "nbformat": 4,
 "nbformat_minor": 5
}
